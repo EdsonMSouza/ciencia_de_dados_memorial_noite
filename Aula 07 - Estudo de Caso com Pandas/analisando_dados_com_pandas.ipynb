{
 "cells": [
  {
   "cell_type": "code",
   "execution_count": null,
   "metadata": {},
   "outputs": [],
   "source": [
    "import pandas as pd\n",
    "from scipy import stats\n",
    "import matplotlib\n",
    "import matplotlib.pyplot as plt\n",
    "\n",
    "plt.style.use('fivethirtyeight')\n",
    "plt.rcParams['axes.labelsize'] = 10\n",
    "plt.rcParams['axes.titlesize'] = 16\n",
    "plt.rcParams['xtick.labelsize'] = 10\n",
    "plt.rcParams['ytick.labelsize'] = 10\n",
    "plt.rcParams['legend.fontsize'] = 10"
   ]
  },
  {
   "cell_type": "code",
   "execution_count": null,
   "metadata": {},
   "outputs": [],
   "source": [
    "# importando os dados com Pandas\n",
    "df = pd.read_csv(\"ocorrencias_cenipa.csv\", sep=';', encoding='latin-1')"
   ]
  },
  {
   "cell_type": "code",
   "execution_count": null,
   "metadata": {},
   "outputs": [],
   "source": [
    "# quantos registros há no dataset\n",
    "df.shape"
   ]
  },
  {
   "cell_type": "code",
   "execution_count": null,
   "metadata": {},
   "outputs": [],
   "source": [
    "df.head()"
   ]
  },
  {
   "cell_type": "code",
   "execution_count": null,
   "metadata": {},
   "outputs": [],
   "source": [
    "# quais são os tipos de ocorrências existentes?\n",
    "print(df['tipo'].unique())"
   ]
  },
  {
   "cell_type": "code",
   "execution_count": null,
   "metadata": {},
   "outputs": [],
   "source": [
    "# qual o total de ocorrências por tipo (categoria)?\n",
    "print('INCIDENTES:', str(df['tipo'][df['tipo'] == 'INCIDENTE'].count()))\n",
    "print('INCIDENTES GRAVES:', str(df['tipo'][df['tipo'] == 'INCIDENTE GRAVE'].count()))\n",
    "print('ACIDENTES:', str(df['tipo'][df['tipo'] == 'ACIDENTE'].count()))\n",
    "print('Total do Ocorrências:', str(df['tipo'].count()))"
   ]
  },
  {
   "cell_type": "code",
   "execution_count": null,
   "metadata": {},
   "outputs": [],
   "source": [
    "# visualizandos os dados sobre os incidentes e acidentes\n",
    "df_group = df['tipo'].value_counts()\n",
    "plt.figure(1, figsize=(20, 8))\n",
    "\n",
    "# colocando um título para o gráfico\n",
    "plt.suptitle('Acidentes Aéreos', fontsize=20)\n",
    "plt.title(\"Maior Recorrência\", fontsize=16)\n",
    "plt.xlabel('Tipos de Acidente', fontsize=12)\n",
    "plt.ylabel('Quantidade de Ocorrências', fontsize=12)\n",
    "\n",
    "# plota o gráfico com os dados\n",
    "df_group.plot.bar()\n",
    "plt.savefig('recorrencia_de_incidentes.jpg', format='jpg', dpi=300, bbox_inches='tight', pad_inches=0.2)"
   ]
  },
  {
   "cell_type": "code",
   "execution_count": null,
   "metadata": {},
   "outputs": [],
   "source": [
    "# quais são as descrições das ocorrências existentes?\n",
    "print(df['descricao'].unique())"
   ]
  },
  {
   "cell_type": "code",
   "execution_count": null,
   "metadata": {},
   "outputs": [],
   "source": [
    "# qual a frequência em que ocorrem as ocorrências?\n",
    "result = []\n",
    "for ocorrencia in df['descricao'].sort_values(ascending=True).unique():    \n",
    "    result.append([ocorrencia, df['descricao'][df['descricao'] == ocorrencia].count()])\n",
    "\n",
    "# cria um novo DataFrame com os dados obtidos\n",
    "df_descricao_tipo_ocorrencias = pd.DataFrame(result, columns =['descricao', 'total'])\n",
    "\n",
    "# mostra o resultado dos 10 tipos de ocorrência mais frequentes\n",
    "df_descricao_tipo_ocorrencias.sort_values(ascending=False, by = 'total').head(10)"
   ]
  },
  {
   "cell_type": "code",
   "execution_count": null,
   "metadata": {},
   "outputs": [],
   "source": [
    "# salva um arquivo excel\n",
    "df_descricao_tipo_ocorrencias.to_excel(\"df_descricao_tipo_ocorrencias.xlsx\", index=True, header=True)"
   ]
  },
  {
   "cell_type": "code",
   "execution_count": null,
   "metadata": {},
   "outputs": [],
   "source": [
    "# normalizando os dados para verificar percentualmente - usando dicionários\n",
    "df_freq_dict = {}\n",
    "\n",
    "for ocorrencia in df['descricao'].unique():\n",
    "    df_freq_dict[ocorrencia] = (df['descricao'][df['descricao'] == ocorrencia].count() / df['descricao'].count()) * 100\n",
    "\n",
    "# criando uma série\n",
    "ocorrencias_freq = pd.Series(df_freq_dict)\n",
    "\n",
    "# mostrando os dados ordenados\n",
    "ocorrencias_freq.sort_values(ascending=False).head(10)"
   ]
  },
  {
   "cell_type": "code",
   "execution_count": null,
   "metadata": {},
   "outputs": [],
   "source": [
    "# ocorrências por estado?\n",
    "for ocorrencia in df['estado'].unique():\n",
    "    print(str(ocorrencia) + ' :' +\n",
    "          str(df['estado'][\n",
    "              df['estado'] == ocorrencia\n",
    "              ].count()\n",
    "             )\n",
    "         )"
   ]
  },
  {
   "cell_type": "code",
   "execution_count": null,
   "metadata": {},
   "outputs": [],
   "source": [
    "# frequência de ocorrências por estado\n",
    "df_freq_dict = {}\n",
    "\n",
    "for ocorrencia in df['estado'].unique():\n",
    "    df_freq_dict[ocorrencia] = (df['estado'][df['estado'] == ocorrencia].count() / df['estado'].count()) * 100\n",
    "\n",
    "# criando uma série\n",
    "ocorrencias_por_estado_freq = pd.Series(df_freq_dict)\n",
    "\n",
    "# mostrando os dados ordenados\n",
    "ocorrencias_por_estado_freq.sort_values(ascending=False).head(10)"
   ]
  },
  {
   "cell_type": "code",
   "execution_count": null,
   "metadata": {},
   "outputs": [],
   "source": [
    "# visualizando os dados\n",
    "fig, axes = plt.subplots(figsize=(10.,6.))\n",
    "\n",
    "ocorrencias_por_estado_freq.sort_values(ascending=False).head(10).plot(kind='bar')\n",
    "\n",
    "plt.title(\"Ocorrências por Estado\", fontsize=16)\n",
    "plt.xlabel('Estados', fontsize=12)\n",
    "plt.ylabel('Ocorrência', fontsize=12)\n",
    "                   \n",
    "plt.savefig('acidentes_maior_recorrencia.jpg', format='jpg', dpi=600, bbox_inches='tight', pad_inches=0.2)\n",
    "plt.show()\n",
    "plt.close()"
   ]
  },
  {
   "cell_type": "code",
   "execution_count": null,
   "metadata": {},
   "outputs": [],
   "source": [
    "# trablando com as cidades\n",
    "# quantas cidades diferentes apresentaram algum problema?\n",
    "cidades = df[\"cidade\"].nunique()\n",
    "print(\"Existem\", cidades, \"cidades únicas nos dados\")"
   ]
  },
  {
   "cell_type": "code",
   "execution_count": null,
   "metadata": {},
   "outputs": [],
   "source": [
    "# faz um agrupamento por cidade versus ocorrências e ordena em ordem crescente e mostra as 10 maiores\n",
    "ocorrencias_nas_cidades = df.groupby('cidade')['codigo'].nunique().sort_values(ascending=False).head(10)\n",
    "print(ocorrencias_nas_cidades)"
   ]
  },
  {
   "cell_type": "code",
   "execution_count": null,
   "metadata": {},
   "outputs": [],
   "source": [
    "print(\"\\nEssas cidades representam\", round(ocorrencias_nas_cidades.head(10).sum()/df.shape[0]*100,1),\"% do total dos dados.\")"
   ]
  },
  {
   "cell_type": "code",
   "execution_count": null,
   "metadata": {},
   "outputs": [],
   "source": [
    "# mostrando o gráfico da representação anterior\n",
    "plt.figure(figsize=(16,8))\n",
    "ocorrencias_nas_cidades.head(10).plot(kind=\"bar\",rot=0)\n",
    "\n",
    "plt.suptitle('Acidentes Aéreos', fontsize=20)\n",
    "plt.title(\"Cidades por Ocorrência\", fontsize=16)\n",
    "plt.xlabel('Tipos de Acidente', fontsize=12)\n",
    "plt.ylabel('Quantidade de Ocorrências', fontsize=12)\n",
    "\n",
    "plt.savefig('cidades_por_ocorrencia.jpg', format='jpg', dpi=600, bbox_inches='tight', pad_inches=0.2)"
   ]
  },
  {
   "cell_type": "code",
   "execution_count": null,
   "metadata": {},
   "outputs": [],
   "source": [
    "# distribuição de ocorrências ao longo dos anos por estado\n",
    "ano_freq_dict = { }\n",
    "ano_freq_dict['all'] = {}\n",
    "\n",
    "for s in df['estado'].unique():\n",
    "    ano_freq_dict[s] = {}\n",
    "\n",
    "for ocorrencia in df['ano'].unique():    \n",
    "    ano_freq_dict['all'][ocorrencia] = df['ano'][df['ano'] == ocorrencia].count()\n",
    "    \n",
    "    for s in df['estado'].unique():        \n",
    "        ano_freq_dict[s][ocorrencia] = df['ano'][(df['ano'] == ocorrencia) & (df['estado'] == s)].count()\n",
    "\n",
    "ano_freq = pd.DataFrame(ano_freq_dict)\n",
    "\n",
    "ano_freq.head(10)"
   ]
  },
  {
   "cell_type": "code",
   "execution_count": null,
   "metadata": {},
   "outputs": [],
   "source": [
    "# salvando dados em um arquivo excel\n",
    "ano_freq.to_excel(\"df_distribuicao_por_ano.xlsx\", index = True, header=True)"
   ]
  },
  {
   "cell_type": "code",
   "execution_count": null,
   "metadata": {},
   "outputs": [],
   "source": [
    "fig, axes = plt.subplots(figsize=(12.,6.))\n",
    "\n",
    "ano_freq['all'].plot.area(label='total')\n",
    "ano_freq['SP'].plot.area(label='SP')\n",
    "ano_freq['MG'].plot.area(label='MG')\n",
    "\n",
    "plt.suptitle('Acidentes Aéreos', fontsize=16)\n",
    "plt.title(\"Distribuição de Acidentes por Ano\", fontsize=12)\n",
    "axes.set_xlabel('Estado')\n",
    "axes.set_ylabel('Número de Ocorrências nos Últimos 10 anos')\n",
    "          \n",
    "axes.legend(loc='upper left')\n",
    "plt.savefig('acidentes_por_estado.jpg', format='jpg', dpi=600, bbox_inches='tight', pad_inches=0.2)\n",
    "plt.show()\n",
    "plt.close()"
   ]
  },
  {
   "cell_type": "markdown",
   "metadata": {},
   "source": [
    "# Atividade de Fixação "
   ]
  },
  {
   "cell_type": "code",
   "execution_count": null,
   "metadata": {},
   "outputs": [],
   "source": [
    "# Quantos países fabricam aeronaves?"
   ]
  },
  {
   "cell_type": "code",
   "execution_count": null,
   "metadata": {},
   "outputs": [],
   "source": [
    "# Mostre graficamente os países fabricantes"
   ]
  },
  {
   "cell_type": "code",
   "execution_count": null,
   "metadata": {},
   "outputs": [],
   "source": [
    "# Mostre graficamento o nível de dano das aeronaves"
   ]
  },
  {
   "cell_type": "code",
   "execution_count": null,
   "metadata": {},
   "outputs": [],
   "source": [
    "# O que você pode inferir sobre os dados?"
   ]
  },
  {
   "cell_type": "code",
   "execution_count": null,
   "metadata": {},
   "outputs": [],
   "source": [
    "# Quantas cidades estão duplicadas?"
   ]
  },
  {
   "cell_type": "code",
   "execution_count": null,
   "metadata": {},
   "outputs": [],
   "source": [
    "# Mostre as 5 cidades que tiveram mais destruição de aeronaves"
   ]
  },
  {
   "cell_type": "code",
   "execution_count": null,
   "metadata": {},
   "outputs": [],
   "source": [
    "# Filtre as cidade únicas e salve o resultado em um arquivo excel denominado df_cidades_unicas.xlsx\n",
    "# ATENÇÃO: o DataFrame não pode ser alterado, pois, será utilizado posteriormente"
   ]
  },
  {
   "cell_type": "code",
   "execution_count": null,
   "metadata": {},
   "outputs": [],
   "source": [
    "# Abra o arquivo salvo e mostre o total de observations"
   ]
  },
  {
   "cell_type": "code",
   "execution_count": null,
   "metadata": {},
   "outputs": [],
   "source": [
    "# Crie um subset e salve em um arquivo excel com o nome: df_reduzido.xlsx com as seguintes variables\n",
    "# Descricao, cidade, estado, ano, aeronave_nivel_dano"
   ]
  },
  {
   "cell_type": "code",
   "execution_count": null,
   "metadata": {},
   "outputs": [],
   "source": [
    "# Abra o arquivo salvo e mostre seu conteúdo"
   ]
  }
 ],
 "metadata": {
  "kernelspec": {
   "display_name": "Python 3",
   "language": "python",
   "name": "python3"
  },
  "language_info": {
   "codemirror_mode": {
    "name": "ipython",
    "version": 3
   },
   "file_extension": ".py",
   "mimetype": "text/x-python",
   "name": "python",
   "nbconvert_exporter": "python",
   "pygments_lexer": "ipython3",
   "version": "3.6.9"
  }
 },
 "nbformat": 4,
 "nbformat_minor": 4
}
