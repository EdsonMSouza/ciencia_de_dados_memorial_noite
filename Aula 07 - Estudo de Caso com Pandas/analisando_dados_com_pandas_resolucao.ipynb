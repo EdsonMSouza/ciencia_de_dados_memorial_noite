{
 "cells": [
  {
   "cell_type": "code",
   "execution_count": null,
   "metadata": {},
   "outputs": [],
   "source": [
    "import pandas as pd\n",
    "from scipy import stats\n",
    "import matplotlib\n",
    "import matplotlib.pyplot as plt\n",
    "\n",
    "plt.style.use('fivethirtyeight')\n",
    "plt.rcParams['axes.labelsize'] = 10\n",
    "plt.rcParams['axes.titlesize'] = 16\n",
    "plt.rcParams['xtick.labelsize'] = 10\n",
    "plt.rcParams['ytick.labelsize'] = 10\n",
    "plt.rcParams['legend.fontsize'] = 10"
   ]
  },
  {
   "cell_type": "code",
   "execution_count": null,
   "metadata": {},
   "outputs": [],
   "source": [
    "# importando os dados com Pandas\n",
    "df = pd.read_csv(\"ocorrencias_cenipa.csv\", sep=';', encoding='latin-1')"
   ]
  },
  {
   "cell_type": "markdown",
   "metadata": {},
   "source": [
    "# Atividade"
   ]
  },
  {
   "cell_type": "code",
   "execution_count": null,
   "metadata": {},
   "outputs": [],
   "source": [
    "# quantos países fabricam aeronaves?\n",
    "len(df['aeronave_pais_fabricante'].value_counts())"
   ]
  },
  {
   "cell_type": "code",
   "execution_count": null,
   "metadata": {},
   "outputs": [],
   "source": [
    "# mostre graficamente os países fabricantes\n",
    "plt.figure(figsize=(16,8))\n",
    "df['aeronave_pais_fabricante'].value_counts().plot(kind=\"bar\",rot=90)"
   ]
  },
  {
   "cell_type": "code",
   "execution_count": null,
   "metadata": {},
   "outputs": [],
   "source": [
    "# mostre graficamento o nível de dano das aeronaves\n",
    "plt.figure(figsize=(16,8))\n",
    "df['aeronave_nivel_dano'].value_counts().plot(kind=\"bar\",rot=90)"
   ]
  },
  {
   "cell_type": "code",
   "execution_count": null,
   "metadata": {},
   "outputs": [],
   "source": [
    "# o que podemos inferir sobre os dados?\n",
    "# Número de acidentes com destruição total (vítmas fatais) é substancialmente menor em relação a soma dos demais tipos de acidente."
   ]
  },
  {
   "cell_type": "code",
   "execution_count": null,
   "metadata": {},
   "outputs": [],
   "source": [
    "# quantas cidades estão duplicadas?\n",
    "sum(df.duplicated(subset=['cidade']))"
   ]
  },
  {
   "cell_type": "code",
   "execution_count": null,
   "metadata": {},
   "outputs": [],
   "source": [
    "# mostre as 5 cidades que tiveram mais destruição de aeronaves\n",
    "df.loc[df['aeronave_nivel_dano'] == \"DESTRUÍDA\"].groupby(['cidade', 'estado'])['codigo'].nunique().sort_values(ascending=False).head()"
   ]
  },
  {
   "cell_type": "code",
   "execution_count": null,
   "metadata": {},
   "outputs": [],
   "source": [
    "# Filtre as cidade únicas e salve o resultado em um arquivo excel denominado df_cidades_unicas.xlsx\n",
    "# ATENÇÃO: o DataFrame não pode ser alterado, pois, será utilizado posteriormente\n",
    "cidades_unicas = df.drop_duplicates(subset=['cidade'], keep='last', inplace=False)\n",
    "cidades_unicas.to_excel(\"df_cidades_unicas.xlsx\", index = False, header=True)"
   ]
  },
  {
   "cell_type": "code",
   "execution_count": null,
   "metadata": {},
   "outputs": [],
   "source": [
    "# Abra o arquivo salvo e mostre o total de observations\n",
    "df_cidades_unicas = pd.read_excel(\"df_cidades_unicas.xlsx\")\n",
    "df_cidades_unicas.shape"
   ]
  },
  {
   "cell_type": "code",
   "execution_count": null,
   "metadata": {},
   "outputs": [],
   "source": [
    "# crie um subset e salve em um arquivo excel com o nome: df_reduzido.xlsx com as seguintes variables\n",
    "# descricao, cidade, estado, ano, aeronave_nivel_dano\n",
    "df_novo = ['descricao', 'cidade', 'estado', 'ano', 'aeronave_nivel_dano']\n",
    "df[df_novo].to_excel(\"df_reduzido.xlsx\", index=False, header=True)"
   ]
  },
  {
   "cell_type": "code",
   "execution_count": null,
   "metadata": {},
   "outputs": [],
   "source": [
    "# Abra o arquivo salvo e mostre seu conteúdo\n",
    "df_reduzido = pd.read_excel(\"df_reduzido.xlsx\")\n",
    "df_reduzido.head()"
   ]
  }
 ],
 "metadata": {
  "kernelspec": {
   "display_name": "Python 3",
   "language": "python",
   "name": "python3"
  },
  "language_info": {
   "codemirror_mode": {
    "name": "ipython",
    "version": 3
   },
   "file_extension": ".py",
   "mimetype": "text/x-python",
   "name": "python",
   "nbconvert_exporter": "python",
   "pygments_lexer": "ipython3",
   "version": "3.6.9"
  }
 },
 "nbformat": 4,
 "nbformat_minor": 4
}
