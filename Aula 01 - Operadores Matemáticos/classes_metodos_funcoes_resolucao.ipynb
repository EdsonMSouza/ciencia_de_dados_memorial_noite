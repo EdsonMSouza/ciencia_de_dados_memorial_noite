{
 "cells": [
  {
   "cell_type": "markdown",
   "metadata": {},
   "source": [
    "## **Aula 04** - Classes, Métodos e Funções\n",
    "\n",
    "## Resolução"
   ]
  },
  {
   "cell_type": "markdown",
   "metadata": {},
   "source": [
    "1. Desenvolva uma função (denominada **calcula**) que receba 5 números (no formato de lista) e retorne: o maior e o menor número, a soma dos números e a média. Mostre separadamente os valores.\n",
    "2. Desenvolva uma classe (denominada **Operacoes**) que contenha os métodos para: adição, subtração, multiplicação e divisão. As operações são apenas entre dois números. Realize uma operação com cada método."
   ]
  },
  {
   "cell_type": "code",
   "execution_count": null,
   "metadata": {},
   "outputs": [],
   "source": [
    "# 1. Desenvolva uma função que receba 5 números e retorne: o maior e o menor número, a soma dos números e a média\n",
    "\n",
    "def calcula(lista):\n",
    "    maior = max(lista)\n",
    "    menor = min(lista)\n",
    "    soma = 0 \n",
    "    media = 0\n",
    "    \n",
    "    for valor in lista:\n",
    "        soma += valor\n",
    "    media = soma/len(lista)\n",
    "    \n",
    "    return (maior, menor, soma, media)"
   ]
  },
  {
   "cell_type": "code",
   "execution_count": null,
   "metadata": {},
   "outputs": [],
   "source": [
    "maior, menor, soma, media = calcula([1, 2, 3, 4, 5])\n",
    "print('Maior:', maior)\n",
    "print('Menor:', menor)\n",
    "print('Soma.:', soma)\n",
    "print('Média:', media)"
   ]
  },
  {
   "cell_type": "code",
   "execution_count": null,
   "metadata": {},
   "outputs": [],
   "source": [
    "#2. Desenvolva uma classe (denominada Operacoes) que contenha os métodos para: adição, subtração,\n",
    "# multiplicação e divisão. As operações são apenas entre dois números. Realize uma operação com cada método.\n",
    "\n",
    "class Operacoes:\n",
    "        def __init__(self, n_1, n_2):\n",
    "            self.val_1 = n_1\n",
    "            self.val_2 = n_2\n",
    "\n",
    "        def adicao(self):\n",
    "            return self.val_1 + self.val_2\n",
    "        \n",
    "        def subtracao(self):\n",
    "            return self.val_1 - self.val_2\n",
    "        \n",
    "        def multiplicacao(self):\n",
    "            return self.val_1 * self.val_2 \n",
    "        \n",
    "        def divisao(self):\n",
    "            return self.val_1 / self.val_2 "
   ]
  },
  {
   "cell_type": "code",
   "execution_count": null,
   "metadata": {},
   "outputs": [],
   "source": [
    "op = Operacoes(10, 20)\n",
    "\n",
    "print('Adição:', op.adicao())\n",
    "print('Subtração:', op.subtracao())\n",
    "print('Multiplicação:', op.multiplicacao())\n",
    "print('Divisão:', op.divisao())\n"
   ]
  },
  {
   "cell_type": "code",
   "execution_count": null,
   "metadata": {},
   "outputs": [],
   "source": []
  }
 ],
 "metadata": {
  "kernelspec": {
   "display_name": "Python 3",
   "language": "python",
   "name": "python3"
  },
  "language_info": {
   "codemirror_mode": {
    "name": "ipython",
    "version": 3
   },
   "file_extension": ".py",
   "mimetype": "text/x-python",
   "name": "python",
   "nbconvert_exporter": "python",
   "pygments_lexer": "ipython3",
   "version": "3.6.9"
  }
 },
 "nbformat": 4,
 "nbformat_minor": 4
}
