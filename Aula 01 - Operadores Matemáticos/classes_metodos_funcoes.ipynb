{
 "cells": [
  {
   "cell_type": "markdown",
   "metadata": {},
   "source": [
    "## **Aula 04** - Classes, Métodos e Funções\n",
    "\n",
    "**Objetivo**: Apresentar as funções e métodos de Python.\n",
    "\n",
    "Uma das técnicas de programação existentes consiste em quebrar um problema maior em vários problemas menores (ou sub-problemas). Desta forma cada sub-problema é solucionado e ao final teremos a solução de nosso problema maior.\n",
    "\n",
    "Em programação, para atendermos tal necessidade, existem funções e métodos. Funções seguem os princípios da programação procedural e e os métodos estão diretamente relacionados com programação orientada a objetos.\n",
    "\n",
    "Python trabalha tanto com funções como também com métodos.\n",
    "\n",
    "\n",
    "## Funções\n",
    "Uma função é um bloco de programa contendo início e fim e identificado por um nome, por meio do qual será referenciado em qualquer parte do programa principal ou em outra função. A característica principal de uma função é que há retorno de valor ou variável para o programa para o qual fez a chamada a função. Quando uma função é chamada por um programa, ela é executada até o seu término e a execução do programa volta exatamente para a primeira linha de instrução, após a linha que fez a chamada da função.\n",
    "\n",
    "### Função SEM retorno\n",
    "`\n",
    "    def <nome da função> (<argumento_1>,<argumento_2>, ..., <argumento_n>):\n",
    "        <instruções a serem executadas pela função>\n",
    "`\n",
    "### Função COM retorno\n",
    "`\n",
    "    def <nome da função> (<argumento_1>,<argumento_2>, ..., <argumento_n>):\n",
    "        <instruções a serem executadas pela função>\n",
    "        return <valor a ser retornado pela função>\n",
    "`"
   ]
  },
  {
   "cell_type": "code",
   "execution_count": null,
   "metadata": {},
   "outputs": [],
   "source": [
    "# função sem retorno\n",
    "def soma(n_1, n_2):\n",
    "    print(n_1 + n_2)\n",
    "    \n",
    "soma(10, 20)"
   ]
  },
  {
   "cell_type": "code",
   "execution_count": null,
   "metadata": {},
   "outputs": [],
   "source": [
    "def lista_valores(lista):\n",
    "    for valor in lista:\n",
    "        print(valor)"
   ]
  },
  {
   "cell_type": "code",
   "execution_count": null,
   "metadata": {},
   "outputs": [],
   "source": [
    "lista_valores([21, 34, 45, 'Edson'])"
   ]
  },
  {
   "cell_type": "code",
   "execution_count": null,
   "metadata": {},
   "outputs": [],
   "source": [
    "# função com retorno\n",
    "def soma(n_1, n_2):\n",
    "    return n_1 + n_2\n",
    "\n",
    "resultado = soma(10, 20)\n",
    "resultado"
   ]
  },
  {
   "cell_type": "markdown",
   "metadata": {},
   "source": [
    "## Retornos especiais\n",
    "Python permite que o retorno de uma função possa ser \"multivalorado\""
   ]
  },
  {
   "cell_type": "code",
   "execution_count": null,
   "metadata": {},
   "outputs": [],
   "source": [
    "def exemplo(x, y):\n",
    "    return (x, y)\n",
    "\n",
    "exemplo(10, 20)"
   ]
  },
  {
   "cell_type": "markdown",
   "metadata": {},
   "source": [
    "## Atribuição de multivariáveis\n",
    "O retorno de uma função pode ser recebido de várias formas. Uma delas é atribuir variáveis separadas por vírgulas, sempre correspondendo ao número de argumentos retornados"
   ]
  },
  {
   "cell_type": "code",
   "execution_count": null,
   "metadata": {},
   "outputs": [],
   "source": [
    "a, b = exemplo(30, 50)\n",
    "\n",
    "print(a)\n",
    "print(b)"
   ]
  },
  {
   "cell_type": "markdown",
   "metadata": {},
   "source": [
    "# Classes\n",
    "No paradigma de orientação a objetos temos que uma classe é formada por dados (atributos) e operações (métodos) numa só estrutura. Um objeto é uma instância de uma classe.\n",
    "\n",
    "__init__ é o método construtor da classe e faz alocação de recursos necessários ao funcionamento do objeto além da definição inicial dos atributos do objeto. Ele é executado quando da criação do objeto.\n",
    "\n",
    "Note que todos os métodos têm como primeiro parâmetro o self. Todo método em Python é obrigado a ter este paramêtro e por padronização adotou-se a palavra self (padrão PEP-8) que faz referência ao próprio objeto que está sendo criado e/ou manipulado.\n",
    "\n",
    "## Métodos\n",
    "Python nos permite que programemos utilizando orientação a objetos. E neste paradigma de programação temos que o equivalente a função, de forma bem simplista, são os métodos."
   ]
  },
  {
   "cell_type": "code",
   "execution_count": null,
   "metadata": {},
   "outputs": [],
   "source": [
    "class Aluno:\n",
    "    def __init__(self, nome, curso, nota1, nota2, nota3):\n",
    "        self.nome = nome\n",
    "        self.curso = curso\n",
    "        self.nota1 = nota1\n",
    "        self.nota1 = nota2\n",
    "        self.nota1 = nota3\n",
    "        \n",
    "        self.media = 0\n",
    "        \n",
    "    # métodos get\n",
    "    def getNome(self):\n",
    "        return self.nome\n",
    "\n",
    "    def getCurso(self):\n",
    "        return self.curso\n",
    "\n",
    "    def getNota1(self):\n",
    "        return self.nota1\n",
    "\n",
    "    def getNota2(self):\n",
    "        return self.nota2\n",
    "\n",
    "    def getNota3(self):\n",
    "        return self.nota3\n",
    "\n",
    "    # métodos set\n",
    "    def setNome(self, nome):\n",
    "        self.nome = nome\n",
    "        \n",
    "    def setCurso(self, curso):\n",
    "        self.curso = curso\n",
    "\n",
    "    def setNota1(self, nota):\n",
    "        self.nota1 = nota\n",
    "        \n",
    "    def setNota2(self, nota):\n",
    "        self.nota1 = nota\n",
    "        \n",
    "    def setNota3(self, nota):\n",
    "        self.nota1 = nota\n",
    "        \n",
    "    def media(self):\n",
    "        self.media = (self.nota1 + self.nota2 + self.nota3)/3"
   ]
  },
  {
   "cell_type": "code",
   "execution_count": null,
   "metadata": {},
   "outputs": [],
   "source": [
    "aluno_1 = Aluno('Edson', 'Ciência da Computação', 8, 6, 9)"
   ]
  },
  {
   "cell_type": "code",
   "execution_count": null,
   "metadata": {},
   "outputs": [],
   "source": [
    "aluno_1.getNome(), aluno_1.getNota1()"
   ]
  },
  {
   "cell_type": "markdown",
   "metadata": {},
   "source": [
    "## Exercícios\n",
    "\n",
    "1. Desenvolva uma função (denominada **calcula**) que receba 5 números (no formato de lista) e retorne: o maior e o menor número, a soma dos números e a média. Mostre separadamente os valores.\n",
    "2. Desenvolva uma classe (denominada **Operacoes**) que contenha os métodos para: adição, subtração, multiplicação e divisão. As operações são apenas entre dois números. Realize uma operação com cada método."
   ]
  }
 ],
 "metadata": {
  "kernelspec": {
   "display_name": "Python 3",
   "language": "python",
   "name": "python3"
  },
  "language_info": {
   "codemirror_mode": {
    "name": "ipython",
    "version": 3
   },
   "file_extension": ".py",
   "mimetype": "text/x-python",
   "name": "python",
   "nbconvert_exporter": "python",
   "pygments_lexer": "ipython3",
   "version": "3.6.9"
  }
 },
 "nbformat": 4,
 "nbformat_minor": 4
}
