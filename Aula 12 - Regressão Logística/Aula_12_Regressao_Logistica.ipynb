{
 "cells": [
  {
   "cell_type": "markdown",
   "metadata": {
    "slideshow": {
     "slide_type": "slide"
    }
   },
   "source": [
    "# Aula 12 - Regressão Logística\n",
    "\n",
    "**Objetivo**: Aprender o que é Regressão Logística e Regressão Softmax. Introduzir o aluno aos problemas de classificação de aprendizagem de máquina."
   ]
  },
  {
   "cell_type": "markdown",
   "metadata": {
    "slideshow": {
     "slide_type": "slide"
    }
   },
   "source": [
    "## Defininição - Regressão Logística\n",
    "\n",
    "> Uma regressão logística se comporta exatamente como um modelo linear: faz uma predição simplesmente computando uma soma ponderada dos atributos (*features*), mais uma constante chamada viés (*bias*), também chamado de constante (*intercept*). Porém ao invés de retornar um valor contínuo, como a regressão linear, retorna a função logística desse valor.\n",
    "\n",
    "$$\\operatorname{Logística}(x) = \\frac{1}{1 + e^{(-x)}}$$"
   ]
  },
  {
   "cell_type": "code",
   "execution_count": 1,
   "metadata": {
    "slideshow": {
     "slide_type": "subslide"
    }
   },
   "outputs": [],
   "source": [
    "import numpy as np\n",
    "import matplotlib.pyplot as plt"
   ]
  },
  {
   "cell_type": "code",
   "execution_count": 2,
   "metadata": {
    "slideshow": {
     "slide_type": "subslide"
    }
   },
   "outputs": [
    {
     "data": {
      "image/png": "[encoded data removed]",
      "text/plain": [
       "<Figure size 432x288 with 1 Axes>"
      ]
     },
     "metadata": {
      "needs_background": "light"
     },
     "output_type": "display_data"
    }
   ],
   "source": [
    "x = np.linspace(-10, 10, 100)\n",
    "sig = 1 / (1 + np.exp(-x))\n",
    "plt.plot(x, sig, \"b-\", linewidth=2, label=r\"$\\sigma(x) = \\frac{1}{1 + e^{-x}}$\")\n",
    "plt.xlabel(\"x\")\n",
    "plt.legend(loc=\"upper left\", fontsize=15)\n",
    "plt.show()"
   ]
  },
  {
   "cell_type": "markdown",
   "metadata": {
    "slideshow": {
     "slide_type": "subslide"
    }
   },
   "source": [
    "$$ \\operatorname{Linear} = \\theta_0 + \\theta_1 x_1 + \\theta_2 x_2 + \\dots \\theta_n x_n$$\n",
    "\n",
    "$\\operatorname{Linear}$ - regressão linear\n",
    "\n",
    "$\\theta$ - parâmetro do modelo\n",
    "\n",
    "$n$ - número de atributos (*features*)\n",
    "\n",
    "$x_i$ - o valor do *inésimo* atributo (*feature*)\n",
    "\n",
    "$ \\hat{p} = \\sigma(\\operatorname{Linear}) = \\frac{1}{1 + e^{-\\operatorname{Linear}}}$\n",
    "\n",
    "$\\hat{p}$ - probabilidade prevista da observação ser 1\n",
    "\n",
    "$\\hat{y}=\\left\\{\\begin{array}{ll} 0 & \\text { se } \\hat{p} < 0.5 \\\\ 1 & \\text { se } \\hat{p} \\geq 0.5 \\end{array}\\right.$"
   ]
  },
  {
   "cell_type": "markdown",
   "metadata": {
    "slideshow": {
     "slide_type": "fragment"
    }
   },
   "source": [
    "### Exemplo\n",
    "\n",
    "$\\mathrm{Previsão~de~Morte} = \\sigma \\big(-10 + 10\\times \\mathrm{cancer} + 12 \\times \\mathrm{diabetes} + 8 \\times \\mathrm{obesidade} \\big)$"
   ]
  },
  {
   "cell_type": "markdown",
   "metadata": {
    "slideshow": {
     "slide_type": "slide"
    }
   },
   "source": [
    "## Métricas de Desempenho de uma Regressão Logística\n",
    "\n",
    "### MSE (?)\n",
    "$$MSE = \\frac{1}{m}\\Sigma_{i=1}^{m}{(\\hat{y}_i - y_i)^2}$$\n",
    "Nossa predição agora é não-linear (devido à transformação logística). Se nós elevarmos essa predição ao quadrado (como fazemos em MSE) resulta em uma função não convexa e com muitos local minima, portanto, inviabilizando o Método do Gradiente Descendente."
   ]
  },
  {
   "cell_type": "markdown",
   "metadata": {
    "slideshow": {
     "slide_type": "subslide"
    }
   },
   "source": [
    "### *Log Loss* \n",
    "\n",
    "Se divide em duas métricas de desempenho\n",
    "\n",
    "$$Log~Loss=\\left\\{\\begin{array}{ll} -\\log(\\hat{p}) & \\text { se } y = 1 \\\\ -\\log(1 - \\hat{p}) & \\text { se } y = 0 \\end{array}\\right.$$\n",
    "\n",
    "Faz sentido porque:\n",
    "\n",
    "* $- \\log(\\hat{p})$ se torna grande quando $\\hat{p}$ se aproxima de 0 - Erro vai ser grande quando o modelo prevê $\\hat{p} \\approx 0$ mas $y = 1$\n",
    "* $- \\log(1 - \\hat{p})$ se torna grande quando $1- \\hat{p}$ se aproxima de 0 - Erro vai ser grande quando o modelo prevê $\\hat{p} \\approx 1$ mas $y = 0$"
   ]
  },
  {
   "cell_type": "code",
   "execution_count": 3,
   "metadata": {
    "slideshow": {
     "slide_type": "subslide"
    }
   },
   "outputs": [
    {
     "data": {
      "image/png": "[encoded data removed]",
      "text/plain": [
       "<Figure size 432x288 with 2 Axes>"
      ]
     },
     "metadata": {
      "needs_background": "light"
     },
     "output_type": "display_data"
    }
   ],
   "source": [
    "fig,ax = plt.subplots(1,2, sharey=True)\n",
    "\n",
    "x = np.linspace(0.001, 0.999, 100)  # evitar erros pq log(0) é inf e log(1) é 0\n",
    "ax[0].plot(x, -np.log(x))\n",
    "ax[0].set_title('Se $y=1$')\n",
    "ax[0].set_xlabel('$\\hat{p}$')\n",
    "ax[0].set_ylabel('Erro')\n",
    "\n",
    "ax[1].plot(x, -np.log(1-x))\n",
    "ax[1].set_title('Se $y=0$')\n",
    "ax[1].set_xlabel('$\\hat{p}$')\n",
    "ax[1].set_ylabel('Erro')\n",
    "\n",
    "plt.show()"
   ]
  },
  {
   "cell_type": "markdown",
   "metadata": {
    "slideshow": {
     "slide_type": "subslide"
    }
   },
   "source": [
    "### Para todo o dataset\n",
    "\n",
    "$$Log~Loss = -\\frac{1}{m} \\sum_{i=1}^{m} \\big[y^{(i)} \\log (\\hat{p}^{(i)}) + (1+y^{(i)}) \\log (1-\\hat{p}^{(i)}) \\big]$$"
   ]
  },
  {
   "cell_type": "markdown",
   "metadata": {
    "slideshow": {
     "slide_type": "slide"
    }
   },
   "source": [
    "## Exemplo com o Dataset Titanic\n",
    "\n",
    "Contém 891 passageiros reais do Titanic que afundou em 15/04/1912 matando 1502 de 2224 passageiros e tripulação que estavam a bordo.\n",
    "\n",
    "* `survived`: *dummy* `0` ou `1` \n",
    "* `pclass`: Classe do Passageiro\n",
    "    - `1`: Primeira Classe\n",
    "    - `2`: Segunda Classe\n",
    "    - `3`: Terceira Classe\n",
    "* `sex`: Sexo `male` ou `female`\n",
    "* `age`: Idade\n",
    "* `sibsp`: Número de Irmãos (*Siblings*) e Esposas (*spouse*) a bordo\n",
    "* `parch`: Número de pais/filhos a bordo\n",
    "* `fare`: Valor pago pela passagem em libras\n",
    "* `embarked`: Porto que embarcou\n",
    "    - `C`: Cherbourg\n",
    "    - `Q`: Queenstown\n",
    "    - `S`: Southampton)\n",
    "* `class`: Mesmo que `pclass` só que em texto\n",
    "* `adult_male`: *dummy* para `age > 16` e `sex == 'male'`\n",
    "* `deck`: Qual deck a cabine do passageiro se situava\n",
    "* `alive`: Mesmo que survived só que com `yes` ou `no`\n",
    "* `alone`: *dummy* para se viajava sozinho"
   ]
  },
  {
   "cell_type": "markdown",
   "metadata": {
    "slideshow": {
     "slide_type": "subslide"
    }
   },
   "source": [
    "<img src=\"images/titanic.png\" alt=\"titanic\" style=\"width: 500px;\"/>"
   ]
  },
  {
   "cell_type": "code",
   "execution_count": 4,
   "metadata": {
    "slideshow": {
     "slide_type": "subslide"
    }
   },
   "outputs": [
    {
     "name": "stderr",
     "output_type": "stream",
     "text": [
      "D:\\Miniconda3\\envs\\tensorflow\\lib\\site-packages\\statsmodels\\tools\\_testing.py:19: FutureWarning: pandas.util.testing is deprecated. Use the functions in the public API at pandas.testing instead.\n",
      "  import pandas.util.testing as tm\n"
     ]
    }
   ],
   "source": [
    "import seaborn as sns\n",
    "import pandas as pd\n",
    "titanic = sns.load_dataset('titanic')\n",
    "\n",
    "feature_names = ['pclass', 'female', 'age', 'fare']\n",
    "titanic['female'] = titanic['sex'].map({'male': 0, 'female': 1})\n",
    "titanic.dropna(subset=feature_names, inplace=True)  #891 para 714\n",
    "\n",
    "X = titanic[feature_names].to_numpy()\n",
    "y = titanic['survived'].to_numpy()"
   ]
  },
  {
   "cell_type": "code",
   "execution_count": 5,
   "metadata": {
    "slideshow": {
     "slide_type": "subslide"
    }
   },
   "outputs": [
    {
     "data": {
      "text/plain": [
       "array([[ 3.    ,  0.    , 22.    ,  7.25  ],\n",
       "       [ 1.    ,  1.    , 38.    , 71.2833],\n",
       "       [ 3.    ,  1.    , 26.    ,  7.925 ],\n",
       "       ...,\n",
       "       [ 1.    ,  1.    , 19.    , 30.    ],\n",
       "       [ 1.    ,  0.    , 26.    , 30.    ],\n",
       "       [ 3.    ,  0.    , 32.    ,  7.75  ]])"
      ]
     },
     "execution_count": 5,
     "metadata": {},
     "output_type": "execute_result"
    }
   ],
   "source": [
    "X  # Numpy Array apenas com números"
   ]
  },
  {
   "cell_type": "code",
   "execution_count": 6,
   "metadata": {
    "slideshow": {
     "slide_type": "subslide"
    }
   },
   "outputs": [
    {
     "name": "stdout",
     "output_type": "stream",
     "text": [
      "Nomes dos Atributos:  ['pclass', 'female', 'age', 'fare'] \n",
      "\n",
      "Tamanho de X:  (714, 4) \n",
      "\n",
      "Tamanho de y:  (714,) \n",
      "\n"
     ]
    }
   ],
   "source": [
    "print('Nomes dos Atributos: ', feature_names, '\\n')\n",
    "print('Tamanho de X: ', X.shape, '\\n')\n",
    "print('Tamanho de y: ', y.shape, '\\n')"
   ]
  },
  {
   "cell_type": "markdown",
   "metadata": {
    "slideshow": {
     "slide_type": "subslide"
    }
   },
   "source": [
    "### Quebrando dataset em `train` e `test`\n",
    "\n",
    "Usar a função do Scikit-Learn [`sklearn.model_selection.train_test_split()`](https://scikit-learn.org/stable/modules/generated/sklearn.model_selection.train_test_split.html)\n",
    "\n",
    "#### Argumentos:\n",
    "\n",
    "* matriz a ser dividida - `X` ou `y`\n",
    "* `test_size` - `float` ou `int` do tamanho do dataset de teste (padrão $0.25$)\n",
    "* `train_size` - padrão `1 - test_size`\n",
    "* `random_state` - `int` - seed do gerador de número randômicos (replicabilidade)"
   ]
  },
  {
   "cell_type": "code",
   "execution_count": 7,
   "metadata": {
    "slideshow": {
     "slide_type": "subslide"
    }
   },
   "outputs": [],
   "source": [
    "from sklearn.model_selection import train_test_split\n",
    "\n",
    "X_train, X_test, y_train, y_test = train_test_split(X, y, test_size=0.25, random_state=123)"
   ]
  },
  {
   "cell_type": "code",
   "execution_count": 8,
   "metadata": {
    "slideshow": {
     "slide_type": "subslide"
    }
   },
   "outputs": [
    {
     "name": "stdout",
     "output_type": "stream",
     "text": [
      "Tamanho de X_train:  (535, 4) \n",
      "\n",
      "Tamanho de X_test:  (179, 4) \n",
      "\n",
      "Tamanho de y_train:  (535,) \n",
      "\n",
      "Tamanho de y_test:  (179,) \n",
      "\n"
     ]
    }
   ],
   "source": [
    "print('Tamanho de X_train: ', X_train.shape, '\\n')\n",
    "print('Tamanho de X_test: ', X_test.shape, '\\n')\n",
    "print('Tamanho de y_train: ', y_train.shape, '\\n')\n",
    "print('Tamanho de y_test: ', y_test.shape, '\\n')"
   ]
  },
  {
   "cell_type": "markdown",
   "metadata": {
    "slideshow": {
     "slide_type": "subslide"
    }
   },
   "source": [
    "### Regressão Logística\n",
    "Usar a função do Scikit-Learn [`sklearn.linear_model.SGDClassifier()`](https://scikit-learn.org/stable/modules/generated/sklearn.linear_model.SGDClassifier.html)\n",
    "\n",
    "#### Argumentos:\n",
    "* `loss` - `str`\n",
    "    * Log Loss - `'log'`\n",
    "* `max_iter` - `int` - Número máximo de iterações do *Gradient Descent*\n",
    "* `tol` - Tolerância - Critério de parada de treino\n",
    "* `random_state` - `int` - seed do gerador de número randômicos (replicabilidade)\n",
    "* `eta0` - `float` - Taxa de aprendizagem inicial\n",
    "    * padrão `0.01`\n",
    "* `learning_rate` - `str` - Taxa de aprendizagem\n",
    "    * Constante - `'constant'`\n",
    "    * Adapatativa - `'adaptive'`\n",
    "* `n_iter_no_change` - `int` - Somente se usar Taxa de Aprendizagem Adaptativa\n",
    "\n",
    "#### Retorna:\n",
    "* Objeto `estimator` do Scikit-Learn"
   ]
  },
  {
   "cell_type": "code",
   "execution_count": 9,
   "metadata": {
    "slideshow": {
     "slide_type": "subslide"
    }
   },
   "outputs": [],
   "source": [
    "from sklearn.linear_model import SGDClassifier\n",
    "\n",
    "clf = SGDClassifier(loss='log', learning_rate='constant', max_iter=10,\n",
    "                   eta0=0.0001, verbose=1, tol=None, random_state=44)"
   ]
  },
  {
   "cell_type": "markdown",
   "metadata": {
    "slideshow": {
     "slide_type": "subslide"
    }
   },
   "source": [
    "### Classe `Estimators`\n",
    "\n",
    "* `.fit()` - Treina o Modelo\n",
    "    * `X`\n",
    "    * `y`\n",
    "* `.predict()` - Gera predições do modelo\n",
    "    * `X`\n",
    "* `.coef_` - Retorna os coeficientes do modelo ($\\theta_i$)\n",
    "* `.intercept_` - Retorna o viés/constante (*bias/intercept*) do modelo ($\\theta_0$)"
   ]
  },
  {
   "cell_type": "code",
   "execution_count": 10,
   "metadata": {
    "slideshow": {
     "slide_type": "subslide"
    }
   },
   "outputs": [
    {
     "name": "stdout",
     "output_type": "stream",
     "text": [
      "-- Epoch 1\n",
      "Norm: 0.03, NNZs: 4, Bias: -0.002108, T: 535, Avg. loss: 0.666095\n",
      "Total training time: 0.00 seconds.\n",
      "-- Epoch 2\n",
      "Norm: 0.04, NNZs: 4, Bias: -0.003694, T: 1070, Avg. loss: 0.658638\n",
      "Total training time: 0.00 seconds.\n",
      "-- Epoch 3\n",
      "Norm: 0.04, NNZs: 4, Bias: -0.004342, T: 1605, Avg. loss: 0.661976\n",
      "Total training time: 0.00 seconds.\n",
      "-- Epoch 4\n",
      "Norm: 0.04, NNZs: 4, Bias: -0.005417, T: 2140, Avg. loss: 0.657339\n",
      "Total training time: 0.00 seconds.\n",
      "-- Epoch 5\n",
      "Norm: 0.06, NNZs: 4, Bias: -0.007010, T: 2675, Avg. loss: 0.657739\n",
      "Total training time: 0.00 seconds.\n",
      "-- Epoch 6\n",
      "Norm: 0.06, NNZs: 4, Bias: -0.007911, T: 3210, Avg. loss: 0.659592\n",
      "Total training time: 0.00 seconds.\n",
      "-- Epoch 7\n",
      "Norm: 0.07, NNZs: 4, Bias: -0.008929, T: 3745, Avg. loss: 0.650646\n",
      "Total training time: 0.00 seconds.\n",
      "-- Epoch 8\n",
      "Norm: 0.08, NNZs: 4, Bias: -0.009966, T: 4280, Avg. loss: 0.647157\n",
      "Total training time: 0.00 seconds.\n",
      "-- Epoch 9\n",
      "Norm: 0.09, NNZs: 4, Bias: -0.010984, T: 4815, Avg. loss: 0.645341\n",
      "Total training time: 0.00 seconds.\n",
      "-- Epoch 10\n",
      "Norm: 0.10, NNZs: 4, Bias: -0.011883, T: 5350, Avg. loss: 0.629559\n",
      "Total training time: 0.00 seconds.\n"
     ]
    },
    {
     "data": {
      "text/plain": [
       "SGDClassifier(alpha=0.0001, average=False, class_weight=None,\n",
       "              early_stopping=False, epsilon=0.1, eta0=0.0001,\n",
       "              fit_intercept=True, l1_ratio=0.15, learning_rate='constant',\n",
       "              loss='log', max_iter=10, n_iter_no_change=5, n_jobs=None,\n",
       "              penalty='l2', power_t=0.5, random_state=44, shuffle=True,\n",
       "              tol=None, validation_fraction=0.1, verbose=1, warm_start=False)"
      ]
     },
     "execution_count": 10,
     "metadata": {},
     "output_type": "execute_result"
    }
   ],
   "source": [
    "clf.fit(X_train, y_train)"
   ]
  },
  {
   "cell_type": "code",
   "execution_count": 11,
   "metadata": {
    "slideshow": {
     "slide_type": "subslide"
    }
   },
   "outputs": [
    {
     "name": "stdout",
     "output_type": "stream",
     "text": [
      "pclass: -0.074\n",
      "female: 0.056\n",
      "age: -0.023\n",
      "fare: 0.028\n",
      "Constante: [-0.01188305]\n"
     ]
    }
   ],
   "source": [
    "# Coeficientes do modelo\n",
    "for feature, coef in zip(feature_names, clf.coef_[0].tolist()):\n",
    "    print(f\"{feature}: {round(coef,3)}\")\n",
    "\n",
    "# Constante do modelo\n",
    "print(f\"Constante: {clf.intercept_}\")"
   ]
  },
  {
   "cell_type": "markdown",
   "metadata": {
    "slideshow": {
     "slide_type": "slide"
    }
   },
   "source": [
    "### Acurácia do Modelo\n",
    "Usar a função do Scikit-Learn [`sklearn.metrics.accuracy_score()`](https://scikit-learn.org/stable/modules/generated/sklearn.metrics.accuracy_score.html)\n",
    "\n",
    "Retorna um score de acurácia `float` entre $0$ e $1$\n",
    "\n",
    "#### Argumentos\n",
    "* `y_true`: Classes Verdadeiras\n",
    "    * 2 classes: vetor (1-D)\n",
    "    * Mais que 2 classes: matriz (2-D)\n",
    "* `y_pred`: Classes Previstas pelo Modelo\n",
    "    * 2 classes: vetor (1-D)\n",
    "    * Mais que 2 classes: matriz (2-D)"
   ]
  },
  {
   "cell_type": "code",
   "execution_count": 18,
   "metadata": {
    "slideshow": {
     "slide_type": "subslide"
    }
   },
   "outputs": [
    {
     "name": "stdout",
     "output_type": "stream",
     "text": [
      "Acurácia de Treino: 0.3\n",
      "\n",
      " ---------------------------\n",
      "\n",
      "Acurácia de Teste: 0.42\n"
     ]
    }
   ],
   "source": [
    "from sklearn.metrics import accuracy_score\n",
    "\n",
    "y_train_true = y_train\n",
    "y_train_pred = clf.predict(X_train)\n",
    "y_test_true = y_test\n",
    "y_test_pred = clf.predict(X_test)\n",
    "\n",
    "\n",
    "print(f\"Acurácia de Treino: {round(accuracy_score(y_train_true, y_train_pred), 2)}\")\n",
    "print('\\n ---------------------------\\n')\n",
    "print(f\"Acurácia de Teste: {round(accuracy_score(y_test_true, y_test_pred), 2)}\")"
   ]
  },
  {
   "cell_type": "markdown",
   "metadata": {
    "slideshow": {
     "slide_type": "slide"
    }
   },
   "source": [
    "## Expandindo para $k$ classes\n",
    "\n",
    "Podemos usar Regressão Logística para mais de uma duas classes ($k > 2$)"
   ]
  },
  {
   "cell_type": "markdown",
   "metadata": {
    "slideshow": {
     "slide_type": "subslide"
    }
   },
   "source": [
    "### Função Softmax\n",
    "\n",
    "Dado um vetor $\\mathbf{x}$, a função Softmax computa um score $s_k(\\mathbf{x})$ para cada classe $k$, então estima a probabilidade de cada classe.\n",
    "\n",
    "$$\\hat{p}_k = \\sigma(\\mathbf{s}(\\mathbf{x}))_k = \\frac{e^{s_k(\\mathbf{x})}}{\\sum_{j=1}^K e^{s_j(\\mathbf{x})}}$$\n",
    "\n",
    "* $K$ - número de classes\n",
    "* $\\mathbf{s}(\\mathbf{x})$ - vetor contendo todos os scores de cada classe de uma observação $x$\n",
    "* $\\sigma(\\mathbf{s}(\\mathbf{x}))_k$ - a probabilidade estimada ($\\hat{p}_k$) que a obsevação $x$ pertence a classe $k$, dado os scores de cada classe para $x$"
   ]
  },
  {
   "cell_type": "markdown",
   "metadata": {
    "slideshow": {
     "slide_type": "subslide"
    }
   },
   "source": [
    "### Regressão Softmax\n",
    "\n",
    "Que nem a Regressão Logística, a Regressão Softmax prevê a classe com maior probabilidade estimada (que é simplesmente a classe com o maior score) \n",
    "\n",
    "$$\\hat{y} = \\max_k \\sigma(\\mathbf{s}(\\mathbf{x}))_k = \\max_k s_k(\\mathbf{x})$$"
   ]
  },
  {
   "cell_type": "markdown",
   "metadata": {
    "slideshow": {
     "slide_type": "subslide"
    }
   },
   "source": [
    "### Regressão Softmax (Regressão Logística Multinomial)\n",
    "Usar a função do Scikit-Learn [`sklearn.linear_model.Logistic Regression()`](https://scikit-learn.org/stable/modules/generated/sklearn.linear_model.LogisticRegression.html)\n",
    "\n",
    "Não possui opções de controle da taxa de aprendizagem do Método do Gradiente Descendente\n",
    "\n",
    "#### Argumentos:\n",
    "* `multi_class` - `str`\n",
    "    * `'ovr'` - Binário ($k=2$)\n",
    "    * `'multinominal'` - Multiclasses ($k > 2$)\n",
    "    * `'auto'` - se baseia nas dimensões da `array` `y` que é passada no `.fit()`\n",
    "* `max_iter` - `int` - Número máximo de iterações do *Gradient Descent*\n",
    "* `tol` - Tolerância - Critério de parada de treino\n",
    "* `random_state` - `int` - seed do gerador de número randômicos (replicabilidade)\n",
    "\n",
    "#### Retorna:\n",
    "* Objeto `estimator` do Scikit-Learn\n",
    "\n",
    "#### O que muda da Regressão Logística?\n",
    "Agora o meu $y$ é uma matriz (2-D) e não um vetor (1-D)"
   ]
  },
  {
   "cell_type": "markdown",
   "metadata": {
    "slideshow": {
     "slide_type": "subslide"
    }
   },
   "source": [
    "### Métrica de Desempenho de uma Regressão Softmax\n",
    "\n",
    "**Cross Entropy**: Estender a Log Loss para mais que duas classes\n",
    "\n",
    "$$Cross~Entropy = -\\frac{1}{m} \\sum_{i=1}^{m} \\sum_{k=1}^K y_k^{(i)} \\log (\\hat{p}_k^{(i)})$$\n",
    "\n",
    "* $y_k^{(i)}$ é a probabilidade alvo que a observação $i$ pertence à classe $k$. De maneira geral, ou é $1$ ou $0$, dependendo de qual classe $i$ pertence."
   ]
  }
 ],
 "metadata": {
  "celltoolbar": "Slideshow",
  "kernelspec": {
   "display_name": "Python 3",
   "language": "python",
   "name": "python3"
  },
  "language_info": {
   "codemirror_mode": {
    "name": "ipython",
    "version": 3
   },
   "file_extension": ".py",
   "mimetype": "text/x-python",
   "name": "python",
   "nbconvert_exporter": "python",
   "pygments_lexer": "ipython3",
   "version": "3.6.9"
  }
 },
 "nbformat": 4,
 "nbformat_minor": 4
}
