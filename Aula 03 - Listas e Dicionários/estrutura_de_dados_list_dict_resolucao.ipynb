{
 "cells": [
  {
   "cell_type": "markdown",
   "metadata": {},
   "source": [
    "## **Aula 03** - Estruturas de Dados: List e Dict\n",
    "\n",
    "# Resolução"
   ]
  },
  {
   "cell_type": "markdown",
   "metadata": {},
   "source": [
    "1. Utilizandos os conceitos vistos nesta aula e na aula anterior, crie um dicionário com 20 alunos que mostre:<br>\n",
    "<ul>\n",
    "    <li>Maior nota</li>\n",
    "    <li>Menor nota</li>\n",
    "    <li>Média dos alunos</li>\n",
    "</ul>\n",
    "2. Utilizando os mesmos dados, mostre os resultados de forma individual para cada curso.\n",
    "3. **Desafio**: Desenvolva um algoritmo que permita mostrar **de uma só vez** os resultados para os respectivos cursos"
   ]
  },
  {
   "cell_type": "code",
   "execution_count": null,
   "metadata": {},
   "outputs": [],
   "source": [
    "alunos = []\n",
    "alunos.append({'nome': 'Aluno 01', 'curso': 'Ciências da Computação', 'AV1':8 })\n",
    "alunos.append({'nome': 'Aluno 02', 'curso': 'Sistemas de Informação', 'AV1':7 })\n",
    "alunos.append({'nome': 'Aluno 03', 'curso': 'Sistemas de Informação', 'AV1':6 })\n",
    "alunos.append({'nome': 'Aluno 04', 'curso': 'Sistemas de Informação', 'AV1':6 })\n",
    "alunos.append({'nome': 'Aluno 05', 'curso': 'Sistemas de Informação', 'AV1':6 })\n",
    "alunos.append({'nome': 'Aluno 06', 'curso': 'Análise e Desenvolvimento de Sistemas', 'AV1':7 })\n",
    "alunos.append({'nome': 'Aluno 07', 'curso': 'Análise e Desenvolvimento de Sistemas', 'AV1':9 })\n",
    "alunos.append({'nome': 'Aluno 08', 'curso': 'Ciências da Computação', 'AV1':10 })\n",
    "alunos.append({'nome': 'Aluno 09', 'curso': 'Ciências da Computação', 'AV1':10 })\n",
    "alunos.append({'nome': 'Aluno 10', 'curso': 'Ciências da Computação', 'AV1':4 })\n",
    "alunos.append({'nome': 'Aluno 11', 'curso': 'Análise e Desenvolvimento de Sistemas', 'AV1':5 })\n",
    "alunos.append({'nome': 'Aluno 11', 'curso': 'Análise e Desenvolvimento de Sistemas', 'AV1':5 })\n",
    "alunos.append({'nome': 'Aluno 12', 'curso': 'Análise e Desenvolvimento de Sistemas', 'AV1':9 })\n",
    "alunos.append({'nome': 'Aluno 13', 'curso': 'Análise e Desenvolvimento de Sistemas', 'AV1':9 })\n",
    "alunos.append({'nome': 'Aluno 14', 'curso': 'Ciências da Computação', 'AV1': 7})\n",
    "alunos.append({'nome': 'Aluno 15', 'curso': 'Análise e Desenvolvimento de Sistemas', 'AV1':7})\n",
    "alunos.append({'nome': 'Aluno 16', 'curso': 'Ciências da Computação', 'AV1': 6})\n",
    "alunos.append({'nome': 'Aluno 17', 'curso': 'Análise e Desenvolvimento de Sistemas', 'AV1':8 })\n",
    "alunos.append({'nome': 'Aluno 18', 'curso': 'Ciências da Computação', 'AV1':4 })\n",
    "alunos.append({'nome': 'Aluno 19', 'curso': 'Sistemas de Informação', 'AV1':2 })\n",
    "alunos.append({'nome': 'Aluno 20', 'curso': 'Análise e Desenvolvimento de Sistemas', 'AV1':9 })"
   ]
  },
  {
   "cell_type": "markdown",
   "metadata": {},
   "source": [
    "### Notas Gerais"
   ]
  },
  {
   "cell_type": "code",
   "execution_count": null,
   "metadata": {},
   "outputs": [],
   "source": [
    "media = 0\n",
    "notas = []\n",
    "\n",
    "for entrada in alunos:\n",
    "    for aluno in entrada.keys():\n",
    "        if aluno == 'AV1':\n",
    "            media += entrada[aluno]\n",
    "            notas = notas + [ entrada[aluno] ]"
   ]
  },
  {
   "cell_type": "code",
   "execution_count": null,
   "metadata": {},
   "outputs": [],
   "source": [
    "print('Notas Gerais')\n",
    "print('A MAIOR nota é.....:', max(notas))\n",
    "print('A MENOR nota é.....:', min(notas))\n",
    "print('A MÉDIA das notas é:', round(media/len(notas),2))"
   ]
  },
  {
   "cell_type": "markdown",
   "metadata": {},
   "source": [
    "#### Somente Ciências da Computação"
   ]
  },
  {
   "cell_type": "code",
   "execution_count": null,
   "metadata": {},
   "outputs": [],
   "source": [
    "media = 0\n",
    "notas = []\n",
    "\n",
    "for entrada in alunos:\n",
    "    for aluno in entrada.keys():\n",
    "        if aluno == 'curso':\n",
    "            if 'Ciências da Computação' in entrada[aluno] :\n",
    "                media += entrada.get('AV1')\n",
    "                notas = notas + [ entrada.get('AV1') ]\n",
    "\n",
    "print('A MAIOR nota é.....:', max(notas))\n",
    "print('A MENOR nota é.....:', min(notas))\n",
    "print('A MÉDIA das notas é:', round(media/len(notas),2))"
   ]
  },
  {
   "cell_type": "markdown",
   "metadata": {},
   "source": [
    "#### Somente Análise e Desenvolvimento de Sistemas"
   ]
  },
  {
   "cell_type": "code",
   "execution_count": null,
   "metadata": {},
   "outputs": [],
   "source": [
    "media = 0\n",
    "notas = []\n",
    "\n",
    "for entrada in alunos:\n",
    "    for aluno in entrada.keys():\n",
    "        if aluno == 'curso':\n",
    "            if 'Análise e Desenvolvimento de Sistemas' in entrada[aluno] :\n",
    "                media += entrada.get('AV1')\n",
    "                notas = notas + [ entrada.get('AV1') ]\n",
    "\n",
    "print('A MAIOR nota é.....:', max(notas))\n",
    "print('A MENOR nota é.....:', min(notas))\n",
    "print('A MÉDIA das notas é:', round(media/len(notas),2))"
   ]
  },
  {
   "cell_type": "markdown",
   "metadata": {},
   "source": [
    "#### Somente Sistemas de Informação"
   ]
  },
  {
   "cell_type": "code",
   "execution_count": null,
   "metadata": {},
   "outputs": [],
   "source": [
    "media = 0\n",
    "notas = []\n",
    "\n",
    "for entrada in alunos:\n",
    "    for aluno in entrada.keys():\n",
    "        if aluno == 'curso':\n",
    "            if 'Sistemas de Informação' in entrada[aluno] :\n",
    "                media += entrada.get('AV1')\n",
    "                notas = notas + [ entrada.get('AV1') ]\n",
    "\n",
    "print('A MAIOR notas é....:', max(notas))\n",
    "print('A MENOR nota é.....:', min(notas))\n",
    "print('A MÉDIA das notas é:', round(media/len(notas),2))"
   ]
  },
  {
   "cell_type": "markdown",
   "metadata": {},
   "source": [
    "# Desafio\n",
    "Construa um algortimo que mostre <strong>de uma só vez</strong> os resultados para os respectivos cursos"
   ]
  },
  {
   "cell_type": "code",
   "execution_count": null,
   "metadata": {},
   "outputs": [],
   "source": [
    "media = 0\n",
    "notas = []\n",
    "lista_cursos = []\n",
    "    \n",
    "for cursos in alunos:\n",
    "    for curso in cursos.keys():\n",
    "        if curso == 'curso':\n",
    "            lista_cursos.append(cursos.get('curso'))\n",
    "\n",
    "# econtra os cursos e coloca em uma lista apenas uma vez\n",
    "lista_cursos = sorted(set(lista_cursos))\n",
    "\n",
    "# percorre os dados\n",
    "for tam in range(len(lista_cursos)):\n",
    "    for entrada in alunos:\n",
    "        for aluno in entrada.keys():\n",
    "            if aluno == 'curso':\n",
    "                if lista_cursos[tam] in entrada[aluno] :\n",
    "                    media += entrada.get('AV1')\n",
    "                    notas = notas + [ entrada.get('AV1') ]\n",
    "    \n",
    "    print('Curso:', lista_cursos[tam], notas)\n",
    "    print('A MAIOR nota é.....:', max(notas))\n",
    "    print('A MENOR nota é.....:', min(notas))\n",
    "    print('A MÉDIA das notas é:', round(media/len(notas),2))\n",
    "    print()\n",
    "    \n",
    "    # reseta o valor da variáveis\n",
    "    notas = []\n",
    "    media = 0\n"
   ]
  },
  {
   "cell_type": "code",
   "execution_count": null,
   "metadata": {},
   "outputs": [],
   "source": []
  }
 ],
 "metadata": {
  "kernelspec": {
   "display_name": "Python 3",
   "language": "python",
   "name": "python3"
  },
  "language_info": {
   "codemirror_mode": {
    "name": "ipython",
    "version": 3
   },
   "file_extension": ".py",
   "mimetype": "text/x-python",
   "name": "python",
   "nbconvert_exporter": "python",
   "pygments_lexer": "ipython3",
   "version": "3.6.9"
  }
 },
 "nbformat": 4,
 "nbformat_minor": 4
}
