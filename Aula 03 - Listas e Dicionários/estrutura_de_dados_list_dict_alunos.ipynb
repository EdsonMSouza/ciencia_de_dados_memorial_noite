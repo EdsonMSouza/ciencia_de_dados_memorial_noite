{
 "cells": [
  {
   "cell_type": "markdown",
   "metadata": {},
   "source": [
    "## **Aula 03** - Estruturas de Dados: List e Dict\n",
    "\n",
    "**Objetivo**: Apresentar os conceitos sobre as Estruturas de Dados em Python.\n",
    "\n",
    "\n",
    "Python trabalha com diferentes estrutura de dados. Entretanto, as duas principais são:\n",
    "\n",
    "* Lista (list)\n",
    "* Dicionário (dict)\n",
    "\n",
    "# Lista (***list***)\n",
    "Lista, também como conhecido como *list*, é uma estrutura de dados que possui **nenhum**, **um** ou **mais itens**, que estão ordenados. Os itens são conhecidos também como elementos. Ela é flexível, ou seja, podemos adicionar novos itens na lista, alterar itens existentes e remover itens da lista, tudo isto de forma dinâmica (em tempo de execução).\n",
    "\n",
    "Em Python, uma lista é representada por uma sequência de itens, separados por vírgula e dentro de colchetes **[]**. Uma lista vazia é representada por colchetes sem nenhuma informação presente entre os colchetes."
   ]
  },
  {
   "cell_type": "code",
   "execution_count": null,
   "metadata": {},
   "outputs": [],
   "source": [
    "lista_vazia = []\n",
    "lista_vazia"
   ]
  },
  {
   "cell_type": "markdown",
   "metadata": {},
   "source": [
    "## Tipos de Variáveis\n",
    "Uma lista pode conter qualquer tipo de variável, incluse de forma mista"
   ]
  },
  {
   "cell_type": "code",
   "execution_count": null,
   "metadata": {},
   "outputs": [],
   "source": [
    "lista_mista = [\"Uninove\", 3, 34.2, None, True]\n",
    "lista_mista"
   ]
  },
  {
   "cell_type": "code",
   "execution_count": null,
   "metadata": {},
   "outputs": [],
   "source": [
    "lista_paises = ['Brasil', 'Argentina', 'Chile', 'Alemanha', 'França', 'Inglaterra', 'EUA', 'Portugal']\n",
    "lista_paises"
   ]
  },
  {
   "cell_type": "markdown",
   "metadata": {},
   "source": [
    "## Acessando elementos em uma lista\n",
    "* Para acessar elementos de uma lista use <code>lista[&lt;numero do elemento&gt;]</code>.\n",
    "* O índice em Python inicia-se em zero ($0$)"
   ]
  },
  {
   "cell_type": "code",
   "execution_count": null,
   "metadata": {},
   "outputs": [],
   "source": [
    "lista_paises[4] # quinto elemento"
   ]
  },
  {
   "cell_type": "code",
   "execution_count": null,
   "metadata": {},
   "outputs": [],
   "source": [
    "lista_mista[0] # primeiro elemento"
   ]
  },
  {
   "cell_type": "markdown",
   "metadata": {},
   "source": [
    "## Percorrendo uma lista com o laço (FOR)"
   ]
  },
  {
   "cell_type": "code",
   "execution_count": null,
   "metadata": {},
   "outputs": [],
   "source": [
    "for pais in lista_paises:\n",
    "    print(pais)"
   ]
  },
  {
   "cell_type": "markdown",
   "metadata": {},
   "source": [
    "## Percorrendo a lista e mostrando a posição do elemento"
   ]
  },
  {
   "cell_type": "code",
   "execution_count": null,
   "metadata": {},
   "outputs": [],
   "source": [
    "for elemento in lista_paises:\n",
    "    print('posição:', lista_paises.index(elemento), elemento)"
   ]
  },
  {
   "cell_type": "markdown",
   "metadata": {},
   "source": [
    "## Verificando a existência de um elemento em uma Lista (pertencimento)"
   ]
  },
  {
   "cell_type": "code",
   "execution_count": null,
   "metadata": {},
   "outputs": [],
   "source": [
    "lista_numeros = [1, 2, 3, 4, 5]\n",
    "print(3 in lista_numeros)\n",
    "print(6 in lista_numeros)\n",
    "print(7 not in lista_numeros) # atenção ao operador NOT"
   ]
  },
  {
   "cell_type": "markdown",
   "metadata": {},
   "source": [
    "## Opeerações com Listas (elementos)\n",
    "* Adição: **append**\n",
    "* Remoção: **remove**\n",
    "* Contar o número de items: **count**\n",
    "* Quantidade de itens: **len**\n",
    "* Ordenar Crescente: **sort**\n",
    "* Ordenar Descrescente: **reverse** (para ordenar inversamente é necessário estar ordenada crescente)"
   ]
  },
  {
   "cell_type": "code",
   "execution_count": null,
   "metadata": {},
   "outputs": [],
   "source": [
    "lista_campus = ['Vergueiro', 'Memorial', \n",
    "                'Vila Prudente', 'Santo Amaro', 'Vila Maria']"
   ]
  },
  {
   "cell_type": "code",
   "execution_count": null,
   "metadata": {},
   "outputs": [],
   "source": [
    "lista_campus.append('Memorial')\n",
    "lista_campus.remove('Santo Amaro')\n",
    "print(lista_campus.count('Memorial'))\n",
    "print(lista_campus.count('Santo Amaro'))"
   ]
  },
  {
   "cell_type": "code",
   "execution_count": null,
   "metadata": {},
   "outputs": [],
   "source": [
    "lista_campus.sort()\n",
    "lista_campus"
   ]
  },
  {
   "cell_type": "code",
   "execution_count": null,
   "metadata": {},
   "outputs": [],
   "source": [
    "lista_campus.reverse()\n",
    "lista_campus"
   ]
  },
  {
   "cell_type": "code",
   "execution_count": null,
   "metadata": {},
   "outputs": [],
   "source": [
    "print('Quantidade de elementos na lista:', len(lista_campus))"
   ]
  },
  {
   "cell_type": "markdown",
   "metadata": {},
   "source": [
    "## Adicionando elementos em posições específicas"
   ]
  },
  {
   "cell_type": "code",
   "execution_count": null,
   "metadata": {},
   "outputs": [],
   "source": [
    "# adicionando elementos no início da lista\n",
    "lista_campus.insert(0, 'Araraquara')\n",
    "lista_campus"
   ]
  },
  {
   "cell_type": "code",
   "execution_count": null,
   "metadata": {},
   "outputs": [],
   "source": [
    "lista_campus = ['Vergueiro', 'Memorial', 'Vila Prudente', 'Santo Amaro', 'Vila Maria']\n",
    "lista_campus.sort()\n",
    "print(lista_campus)"
   ]
  },
  {
   "cell_type": "code",
   "execution_count": null,
   "metadata": {},
   "outputs": [],
   "source": [
    "print(lista_campus.index('Vila Maria'))"
   ]
  },
  {
   "cell_type": "markdown",
   "metadata": {},
   "source": [
    "## Mais operações com Listas (estrutura) - Fusão"
   ]
  },
  {
   "cell_type": "code",
   "execution_count": null,
   "metadata": {},
   "outputs": [],
   "source": [
    "lista_campus = ['Vergueiro', 'Memorial', 'Vila Prudente', 'Santo Amaro', 'Vila Maria']\n",
    "lista_cursos = ['Ciências da Computação', 'TADS', 'Sistemas de Informação', 'TGTI']"
   ]
  },
  {
   "cell_type": "code",
   "execution_count": null,
   "metadata": {},
   "outputs": [],
   "source": [
    "print(lista_campus + lista_cursos)"
   ]
  },
  {
   "cell_type": "code",
   "execution_count": null,
   "metadata": {},
   "outputs": [],
   "source": [
    "lista_campus.extend(lista_cursos)\n",
    "print('TADS' in lista_campus)"
   ]
  },
  {
   "cell_type": "markdown",
   "metadata": {},
   "source": [
    "## *Slice* ou fatiamento de uma lista\n",
    "* Para fatiar (slice) uma lista use o : e o índice (indexado em zero)\n",
    "\n",
    "Ex.: <code>lista[1:3]</code>"
   ]
  },
  {
   "cell_type": "code",
   "execution_count": null,
   "metadata": {},
   "outputs": [],
   "source": [
    "lista_campus = ['Vergueiro', 'Memorial', 'Vila Prudente', \n",
    "                'Santo Amaro', 'Vila Maria']\n",
    "\n",
    "print(lista_campus[1:3])\n",
    "print(lista_campus[:3])\n",
    "print(lista_campus[2:])"
   ]
  },
  {
   "cell_type": "markdown",
   "metadata": {},
   "source": [
    "# Máximos, Mínimos e Soma de uma lista\n",
    "Podemos utilizar as funções max() e min() para recuperar os maiores e menores valores, respectivamente, além da função sum() para totalizar uma lista"
   ]
  },
  {
   "cell_type": "code",
   "execution_count": null,
   "metadata": {},
   "outputs": [],
   "source": [
    "# maior valor de uma lista\n",
    "lista = [1, 2, 4, 9, 8, 7, 10]\n",
    "max(lista)"
   ]
  },
  {
   "cell_type": "code",
   "execution_count": null,
   "metadata": {},
   "outputs": [],
   "source": [
    "# menor valor de uma lista\n",
    "min(lista)"
   ]
  },
  {
   "cell_type": "code",
   "execution_count": null,
   "metadata": {},
   "outputs": [],
   "source": [
    "sum(lista)"
   ]
  },
  {
   "cell_type": "markdown",
   "metadata": {},
   "source": [
    "# Dicionários (***dict***)\n",
    "* O dicionário é uma estrutura de dados similar as listas, mas não ordenado. Sua estrutra é composta por <code>chave:valor</code>\n",
    "* Apesar de não ser ordenado, é indexado pela sua chave\n",
    "* Enquanto nas listas o delimitador são pares de colchetes, no dict são as chaves"
   ]
  },
  {
   "cell_type": "code",
   "execution_count": null,
   "metadata": {},
   "outputs": [],
   "source": [
    "dicionario = {'RA':'123456', 'nome':'Edson Melo de Souza', \n",
    "              'idade':48, 'Curso':'Ciências da Computação'}\n",
    "dicionario"
   ]
  },
  {
   "cell_type": "markdown",
   "metadata": {},
   "source": [
    "## Operações com dicionários\n",
    "* Acessar valor de uma chave: dict[key]\n",
    "* Alterar o valor de uma chave: dict[key] = novo_valor\n",
    "* Para iterar todas as chaves e valores: for key, value in dict.items()\n",
    "* Verificar pertencimento: if chave_desejada in dict: ou if valor_desejado in dict.items()"
   ]
  },
  {
   "cell_type": "code",
   "execution_count": null,
   "metadata": {},
   "outputs": [],
   "source": [
    "print('RA:', dicionario['RA'])"
   ]
  },
  {
   "cell_type": "code",
   "execution_count": null,
   "metadata": {},
   "outputs": [],
   "source": [
    "print('RA:', dicionario.get('RA')) # outro método de acessar uma chave"
   ]
  },
  {
   "cell_type": "code",
   "execution_count": null,
   "metadata": {},
   "outputs": [],
   "source": [
    "for chave, valor in dicionario.items():\n",
    "    print(chave, valor)"
   ]
  },
  {
   "cell_type": "code",
   "execution_count": null,
   "metadata": {},
   "outputs": [],
   "source": [
    "chaves = dicionario.keys()\n",
    "for chave in chaves:\n",
    "    print(chave, dicionario[chave])"
   ]
  },
  {
   "cell_type": "markdown",
   "metadata": {},
   "source": [
    "### Incluindo, alterando e removendo elementos do dicionário"
   ]
  },
  {
   "cell_type": "code",
   "execution_count": null,
   "metadata": {},
   "outputs": [],
   "source": [
    "# adicionando uma nova entrada\n",
    "dicionario['AV1'] = 8\n",
    "dicionario"
   ]
  },
  {
   "cell_type": "code",
   "execution_count": null,
   "metadata": {},
   "outputs": [],
   "source": [
    "# atualizando: com o método update() atualizamos uma chave já existente com um novo valor ou adicionamos novas chaves caso elas não existam.\n",
    "dicionario.update({'AV2':10})\n",
    "dicionario"
   ]
  },
  {
   "cell_type": "code",
   "execution_count": null,
   "metadata": {},
   "outputs": [],
   "source": [
    "# alterando as notas no dicionário\n",
    "dicionario.update({'AV1':7, 'AV2':10})\n",
    "dicionario"
   ]
  },
  {
   "cell_type": "code",
   "execution_count": null,
   "metadata": {},
   "outputs": [],
   "source": [
    "# removendo valores do dicionário\n",
    "del dicionario['AV2']\n",
    "dicionario"
   ]
  },
  {
   "cell_type": "code",
   "execution_count": null,
   "metadata": {},
   "outputs": [],
   "source": [
    "# verificando se existe uma chave no dicionário\n",
    "'AV1' in dicionario"
   ]
  },
  {
   "cell_type": "code",
   "execution_count": null,
   "metadata": {},
   "outputs": [],
   "source": [
    "'AV2' not in dicionario"
   ]
  },
  {
   "cell_type": "markdown",
   "metadata": {},
   "source": [
    "## Dicionário integrado com listas\n",
    "* Criando uma lista que contém dicionários"
   ]
  },
  {
   "cell_type": "code",
   "execution_count": null,
   "metadata": {},
   "outputs": [],
   "source": [
    "lista_alunos = []\n",
    "lista_alunos.append({'RA':'123456', 'nome':'Edson Melo de Souza', 'curso':'Ciências da Computação'})\n",
    "lista_alunos.append({'RA':'987654', 'nome':'Fernanda Mercadante', 'curso':'Sistemas de Informação'})\n",
    "lista_alunos"
   ]
  },
  {
   "cell_type": "markdown",
   "metadata": {},
   "source": [
    "## Percorrendo os dicionários dentro de uma lista (método get)"
   ]
  },
  {
   "cell_type": "code",
   "execution_count": null,
   "metadata": {},
   "outputs": [],
   "source": [
    "for entrada in lista_alunos:\n",
    "    for aluno in [entrada]:\n",
    "        print('RA:', aluno.get('RA'))\n",
    "        print('Nome:', aluno.get('nome'))\n",
    "        print('Curso:', aluno.get('curso'))\n",
    "    print()\n"
   ]
  },
  {
   "cell_type": "markdown",
   "metadata": {},
   "source": [
    "## Percorrendo com o uso das chaves (keys)"
   ]
  },
  {
   "cell_type": "code",
   "execution_count": null,
   "metadata": {},
   "outputs": [],
   "source": [
    "for entrada in lista_alunos:\n",
    "    for aluno in entrada.keys():\n",
    "        print(aluno, entrada[aluno])\n",
    "    print()\n"
   ]
  },
  {
   "cell_type": "markdown",
   "metadata": {},
   "source": [
    "# ATIVIDADE\n",
    "* Entregar (individualmente) no dia 26/03\n",
    "* Valor: 2,0 pontos para AV1\n",
    "1. Utilizandos os conceitos vistos nesta aula e na aula anterior, crie um dicionário com 20 alunos que mostre:<br>\n",
    "<ul>\n",
    "    <li>Maior nota</li>\n",
    "    <li>Menor nota</li>\n",
    "    <li>Média dos alunos</li>\n",
    "</ul>\n",
    "2. Utilizando os mesmos dados, mostre os resultados de forma individual para cada curso.\n",
    "3. **Desafio**: Desenvolva um algoritmo que permita mostrar **de uma só vez** os resultados para os respectivos cursos"
   ]
  },
  {
   "cell_type": "code",
   "execution_count": null,
   "metadata": {},
   "outputs": [],
   "source": [
    "alunos = []\n",
    "alunos.append({'nome': 'Aluno 01', 'curso': 'Ciências da Computação', 'AV1':8 })\n",
    "alunos.append({'nome': 'Aluno 02', 'curso': 'Sistemas de Informação', 'AV1':7 })\n",
    "alunos.append({'nome': 'Aluno 03', 'curso': 'Sistemas de Informação', 'AV1':6 })\n",
    "alunos.append({'nome': 'Aluno 04', 'curso': 'Sistemas de Informação', 'AV1':6 })\n",
    "alunos.append({'nome': 'Aluno 05', 'curso': 'Sistemas de Informação', 'AV1':6 })\n",
    "alunos.append({'nome': 'Aluno 06', 'curso': 'Análise e Desenvolvimento de Sistemas', 'AV1':7 })\n",
    "alunos.append({'nome': 'Aluno 07', 'curso': 'Análise e Desenvolvimento de Sistemas', 'AV1':9 })\n",
    "alunos.append({'nome': 'Aluno 08', 'curso': 'Ciências da Computação', 'AV1':10 })\n",
    "alunos.append({'nome': 'Aluno 09', 'curso': 'Ciências da Computação', 'AV1':10 })\n",
    "alunos.append({'nome': 'Aluno 10', 'curso': 'Ciências da Computação', 'AV1':4 })\n",
    "alunos.append({'nome': 'Aluno 11', 'curso': 'Análise e Desenvolvimento de Sistemas', 'AV1':5 })\n",
    "alunos.append({'nome': 'Aluno 11', 'curso': 'Análise e Desenvolvimento de Sistemas', 'AV1':5 })\n",
    "alunos.append({'nome': 'Aluno 12', 'curso': 'Análise e Desenvolvimento de Sistemas', 'AV1':9 })\n",
    "alunos.append({'nome': 'Aluno 13', 'curso': 'Análise e Desenvolvimento de Sistemas', 'AV1':9 })\n",
    "alunos.append({'nome': 'Aluno 14', 'curso': 'Ciências da Computação', 'AV1': 7})\n",
    "alunos.append({'nome': 'Aluno 15', 'curso': 'Análise e Desenvolvimento de Sistemas', 'AV1':7})\n",
    "alunos.append({'nome': 'Aluno 16', 'curso': 'Ciências da Computação', 'AV1': 6})\n",
    "alunos.append({'nome': 'Aluno 17', 'curso': 'Análise e Desenvolvimento de Sistemas', 'AV1':8 })\n",
    "alunos.append({'nome': 'Aluno 18', 'curso': 'Ciências da Computação', 'AV1':4 })\n",
    "alunos.append({'nome': 'Aluno 19', 'curso': 'Sistemas de Informação', 'AV1':2 })\n",
    "alunos.append({'nome': 'Aluno 20', 'curso': 'Análise e Desenvolvimento de Sistemas', 'AV1':9 })"
   ]
  }
 ],
 "metadata": {
  "kernelspec": {
   "display_name": "Python 3",
   "language": "python",
   "name": "python3"
  },
  "language_info": {
   "codemirror_mode": {
    "name": "ipython",
    "version": 3
   },
   "file_extension": ".py",
   "mimetype": "text/x-python",
   "name": "python",
   "nbconvert_exporter": "python",
   "pygments_lexer": "ipython3",
   "version": "3.6.9"
  }
 },
 "nbformat": 4,
 "nbformat_minor": 4
}
