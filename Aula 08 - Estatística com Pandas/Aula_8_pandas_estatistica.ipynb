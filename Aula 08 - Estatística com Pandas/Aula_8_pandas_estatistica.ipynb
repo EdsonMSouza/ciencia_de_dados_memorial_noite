{
 "cells": [
  {
   "cell_type": "markdown",
   "metadata": {
    "slideshow": {
     "slide_type": "slide"
    }
   },
   "source": [
    "# `pandas` estatística\n",
    "\n",
    "**Objetivo**: Apresentar o que é estatística pela biblioteca pandas. Abordar quantis, média, mediana, desvio padrão, assimetria, curtose, correlação, covariância."
   ]
  },
  {
   "cell_type": "markdown",
   "metadata": {
    "slideshow": {
     "slide_type": "slide"
    }
   },
   "source": [
    "# Estatística\n",
    "\n",
    "* média\n",
    "* mediana\n",
    "* moda\n",
    "* desvio padrão\n",
    "* quantis\n",
    "* assimetria\n",
    "* curtose\n",
    "* correlação"
   ]
  },
  {
   "cell_type": "markdown",
   "metadata": {
    "slideshow": {
     "slide_type": "slide"
    }
   },
   "source": [
    "## Média (*inglês: Mean*)\n",
    "\n",
    "Valor central de um conjunto discreto de números. Especificamente, a soma dos números divido pela quantidade de números. Geralmente média é denominada como $\\bar{x}$ ou a letra grega $\\mu$.\n",
    "\n",
    "$\\bar{x}=\\frac{1}{n}\\left(\\sum_{i=1}^{n} x_{i}\\right)=\\frac{x_{1}+x_{2}+\\cdots+x_{n}}{n}$"
   ]
  },
  {
   "cell_type": "markdown",
   "metadata": {
    "slideshow": {
     "slide_type": "fragment"
    }
   },
   "source": [
    "## Mediana (*inglês: Median*)\n",
    "\n",
    "Valor que separa a metade maior e a metade menor de uma amostra, uma população ou uma distribuição de probabilidade. Num conjunto de dados, pode ser pensada como o valor do \"meio\".\n",
    "\n",
    "$\\operatorname{mediana}(a)=\\frac{a_{\\lfloor (\\# a+1) \\div 2 \\rfloor} + a_{\\lceil (\\# a+1) \\div 2 \\rceil}}{2}$,\n",
    "\n",
    "onde $a$ é um lista ordenada de números, $\\#a$ o comprimento dessa lista, $\\lfloor . \\rfloor$ o valor arredondado para baixo, $\\lceil . \\rceil$ o valor arredondado para cima.\n"
   ]
  },
  {
   "cell_type": "markdown",
   "metadata": {
    "slideshow": {
     "slide_type": "fragment"
    }
   },
   "source": [
    "## Moda (*inglês: Mode*)\n",
    "\n",
    "Valor mais frequente de uma amostra, uma população, ou uma distribuição de probabilidade."
   ]
  },
  {
   "cell_type": "markdown",
   "metadata": {
    "slideshow": {
     "slide_type": "subslide"
    }
   },
   "source": [
    "<img src=\"images/media_mediana_moda.png\" alt=\"media-mediana-moda\" style=\"width: 300px;\"/>"
   ]
  },
  {
   "cell_type": "markdown",
   "metadata": {
    "slideshow": {
     "slide_type": "subslide"
    }
   },
   "source": [
    "<img src=\"https://www.edsonmelo.com.br/datascience/renda-media-mediana.png\" alt=\"renda-media-mediana\" style=\"width: 600px;\"/>"
   ]
  },
  {
   "cell_type": "markdown",
   "metadata": {
    "slideshow": {
     "slide_type": "slide"
    }
   },
   "source": [
    "## Desvio Padrão (*inglês: Standard Deviation*)\n",
    "\n",
    "Medida de quanto variação ou disperção um conjunto de valores possui. Geralmente representada com a letra gregra $\\sigma$. É a raiz quadrada da soma dos desvios (em relação à media - $x_i - \\bar{x}$) de uma amostra dívido pelo número total da amostra menos um ($N-1$).\n",
    "\n",
    "$\\sigma = \\sqrt{\\frac{\\sum_{i=1}^{N}\\left(x_{i}-\\bar{x}\\right)^{2}}{N-1}}$"
   ]
  },
  {
   "cell_type": "markdown",
   "metadata": {
    "slideshow": {
     "slide_type": "subslide"
    }
   },
   "source": [
    "É importante porque, **em uma distribuição normal**, os intervalos contém um percentual da população\n",
    "\n",
    "* $\\mu \\pm 1 \\times \\sigma \\approx 68\\%$\n",
    "* $\\mu \\pm 2 \\times \\sigma \\approx 95\\%$\n",
    "* $\\mu \\pm 3 \\times \\sigma \\approx 69\\%$\n",
    "\n",
    "\n",
    "<img src=\"https://www.edsonmelo.com.br/datascience/desvio_padrão.png\" alt=\"desvio_padrão\" style=\"width: 600px;\"/>"
   ]
  },
  {
   "cell_type": "markdown",
   "metadata": {
    "slideshow": {
     "slide_type": "slide"
    }
   },
   "source": [
    "## Distribuição Normal"
   ]
  },
  {
   "cell_type": "code",
   "execution_count": null,
   "metadata": {
    "slideshow": {
     "slide_type": "subslide"
    }
   },
   "outputs": [],
   "source": [
    "import seaborn as sns\n",
    "import matplotlib.pyplot as plt\n",
    "from scipy.stats import norm\n",
    "\n",
    "styles = ['Solarize_Light2', \n",
    "          '_classic_test_patch', \n",
    "          'bmh', \n",
    "          'classic', \n",
    "          'dark_background', \n",
    "          'fast', \n",
    "          'fivethirtyeight', \n",
    "          'ggplot', \n",
    "          'grayscale', \n",
    "          'seaborn', \n",
    "          'seaborn-bright', \n",
    "          'seaborn-colorblind', \n",
    "          'seaborn-dark', \n",
    "          'seaborn-dark-palette', \n",
    "          'seaborn-darkgrid', \n",
    "          'seaborn-deep', \n",
    "          'seaborn-muted', \n",
    "          'seaborn-notebook', \n",
    "          'seaborn-paper', \n",
    "          'seaborn-pastel', \n",
    "          'seaborn-poster', \n",
    "          'seaborn-talk', \n",
    "          'seaborn-ticks', \n",
    "          'seaborn-white', \n",
    "          'seaborn-whitegrid', \n",
    "          'tableau-colorblind10'\n",
    "         ]\n",
    "\n",
    "plt.style.use('classic')\n",
    "plt.rcParams['axes.labelsize'] = 10\n",
    "plt.rcParams['axes.titlesize'] = 16\n",
    "plt.rcParams['xtick.labelsize'] = 10\n",
    "plt.rcParams['ytick.labelsize'] = 10\n",
    "plt.rcParams['legend.fontsize'] = 10"
   ]
  },
  {
   "cell_type": "code",
   "execution_count": null,
   "metadata": {
    "slideshow": {
     "slide_type": "subslide"
    }
   },
   "outputs": [],
   "source": [
    "f, axes = plt.subplots(1, 1, figsize=(18, 9), sharex=True)\n",
    "size = 1000\n",
    "for mean, std in [(0, 1), (0, 0.2), (0, 3), (-2, 0.5)]:\n",
    "    data = norm.rvs(mean, std, size=size)\n",
    "    sns.distplot(data, label=f\"Média {mean} \\n DP {std}\")\n",
    "\n",
    "title = f\"Distribuição Normal - {size} simulações\"\n",
    "plt.title(title)\n",
    "axes.legend()\n",
    "plt.setp(axes, yticks=[])\n",
    "plt.tight_layout()"
   ]
  },
  {
   "cell_type": "markdown",
   "metadata": {
    "slideshow": {
     "slide_type": "slide"
    }
   },
   "source": [
    "## Quantis / Percentis\n",
    "\n",
    "Um percentil (ou um centil) é uma medida usada nas estatísticas indicando o valor abaixo do qual uma determinada porcentagem de observações em um grupo de observações cai. Por exemplo, o 20º percentil é o valor (ou pontuação) abaixo do qual 20% das observações podem ser encontradas.\n",
    "\n",
    "* 100-quantis são chamados *percentis*\n",
    "* 12-quantis são chamados *duo*-deciles\n",
    "* 10-quantis são chamados *decis*\n",
    "* 5-quantis são chamados *quintis* \n",
    "* 4-quantis são chamados *quartis*\n",
    "* 3-quantis são chamados *tercis*"
   ]
  },
  {
   "cell_type": "markdown",
   "metadata": {
    "slideshow": {
     "slide_type": "subslide"
    }
   },
   "source": [
    "### Quartis (Q1, Q2, Q3, Q4)\n",
    "\n",
    "O mais utilizado em ciência de dados\n",
    "\n",
    "<img src=\"https://www.edsonmelo.com.br/datascience/quantis-normal.png\" alt=\"quantis=normal\" style=\"width: 600px;\"/>"
   ]
  },
  {
   "cell_type": "markdown",
   "metadata": {
    "slideshow": {
     "slide_type": "slide"
    }
   },
   "source": [
    "## Assimetria (*inglês: Skewness*)\n",
    "\n",
    "Medida da falta de simetria de uma determinada distribuição probabilística.\n",
    "\n",
    "* $>0$ - Assimetria Positiva - Cauda direita - valores acima da média mais pesada\n",
    "* $<0$ - Assimetria Negativa - Cauda esquerda - valores abaixo da média mais pesada\n",
    "* $0$ - Simetria - Mesmo que uma distribuição Normal"
   ]
  },
  {
   "cell_type": "markdown",
   "metadata": {
    "slideshow": {
     "slide_type": "subslide"
    }
   },
   "source": [
    "<img src=\"https://www.edsonmelo.com.br/datascience/assimetria2.png\" alt=\"assimetria\" style=\"width: 600px;\"/>"
   ]
  },
  {
   "cell_type": "markdown",
   "metadata": {
    "slideshow": {
     "slide_type": "slide"
    }
   },
   "source": [
    "## Curtose (*inglês: Kurtosis*)\n",
    "\n",
    "Curtose é uma medida de forma que caracteriza o achatamento da curva de uma distribuição probabilística.\n",
    "\n",
    "* $3$ - Mesocúrtica (Mesmo que uma distribuição Normal)\n",
    "* $< 3$ - Platicúrtica (mais \"achatada\" que a distribuição Normal)\n",
    "* $> 3$ - Leptocúrtica (mais \"alta\" e \"afunilada\" e concentrada que a distribuição Normal)"
   ]
  },
  {
   "cell_type": "markdown",
   "metadata": {
    "slideshow": {
     "slide_type": "subslide"
    }
   },
   "source": [
    "<img src=\"https://www.edsonmelo.com.br/datascience/curtose.png\" alt=\"curtose\" style=\"width: 600px;\"/>"
   ]
  },
  {
   "cell_type": "markdown",
   "metadata": {
    "slideshow": {
     "slide_type": "slide"
    }
   },
   "source": [
    "## Correlação (*inglês: Correlation*)\n",
    "\n",
    "Qualquer relação estatística (causal ou não causal) entre duas variáveis. Varia entre $-1$ e $1$:\n",
    "\n",
    "* 0 - Nenhuma correlação\n",
    "* 1 - Correlação/Associação positiva perfeita\n",
    "* 2 - Correlação/Associação negativa perfeita"
   ]
  },
  {
   "cell_type": "markdown",
   "metadata": {
    "slideshow": {
     "slide_type": "subslide"
    }
   },
   "source": [
    "<img src=\"https://www.edsonmelo.com.br/datascience/correlação.png\" alt=\"correlação\" style=\"width: 600px;\"/>\n",
    "\n",
    "* Primeira Fileira: Exemplos de correlações entre $-1$ e $1$\n",
    "* Segunda Fileira: Correlação não altera a inclinação (*slope*) entre duas variáveis\n",
    "* Terceira Fileira: Exemplos de relações não-lineares (Correlação é $0$)"
   ]
  },
  {
   "cell_type": "code",
   "execution_count": null,
   "metadata": {
    "slideshow": {
     "slide_type": "slide"
    }
   },
   "outputs": [],
   "source": [
    "import pandas as pd\n",
    "import matplotlib.pyplot as plt\n",
    "import seaborn as sns\n",
    "\n",
    "iris = sns.load_dataset('iris')\n",
    "titanic = sns.load_dataset('titanic')"
   ]
  },
  {
   "cell_type": "markdown",
   "metadata": {
    "slideshow": {
     "slide_type": "subslide"
    }
   },
   "source": [
    "## Dataset [*Iris*](https://en.wikipedia.org/wiki/Iris_flower_data_set)\n",
    "\n",
    "Edgar Anderson coletou os dados para quantificar a variação morfológica das flores de íris de três espécies relacionadas.\n",
    "\n",
    "O conjunto de dados consiste em 50 amostras de cada uma das três espécies de Iris  (Setosa, Virginica e Iris Versicolor). Quatro características foram medidas em cada amostra (cm):\n",
    "\n",
    "* comprimento das sépalas\n",
    "* largura  das sépalas\n",
    "* comprimento das pétalas\n",
    "* largura das pétalas"
   ]
  },
  {
   "cell_type": "markdown",
   "metadata": {
    "slideshow": {
     "slide_type": "subslide"
    }
   },
   "source": [
    "<img src=\"https://thegoodpython.com/assets/images/iris-species.png\" alt=\"iris-sepals-petals\" style=\"width: 600px;\"/>"
   ]
  },
  {
   "cell_type": "code",
   "execution_count": null,
   "metadata": {
    "slideshow": {
     "slide_type": "subslide"
    }
   },
   "outputs": [],
   "source": [
    "sns.pairplot(iris, hue='species')\n",
    "plt.tight_layout()"
   ]
  },
  {
   "cell_type": "markdown",
   "metadata": {
    "slideshow": {
     "slide_type": "slide"
    }
   },
   "source": [
    "## Dataset Titanic\n",
    "\n",
    "Contém 891 passageiros reais do Titanic que afundou em 15/04/1912 matando 1502 de 2224 passageiros e tripulação que estavam a bordo.\n",
    "\n",
    "* `survived`: *dummy* `0` ou `1` \n",
    "* `pclass`: Classe do Passageiro\n",
    "    - `1`: Primeira Classe\n",
    "    - `2`: Segunda Classe\n",
    "    - `3`: Terceira Classe\n",
    "* `sex`: Sexo `male` ou `female`\n",
    "* `age`: Idade\n",
    "* `sibsp`: Número de Irmãos (*Siblings*) e Esposas (*spouse*) a bordo\n",
    "* `parch`: Número de pais/filhos a bordo\n",
    "* `fare`: Valor pago pela passagem em libras\n",
    "* `embarked`: Porto que embarcou\n",
    "    - `C`: Cherbourg\n",
    "    - `Q`: Queenstown\n",
    "    - `S`: Southampton)\n",
    "* `class`: Mesmo que `pclass` só que em texto\n",
    "* `adult_male`: *dummy* para `age > 16` e `sex == 'male'`\n",
    "* `deck`: Qual deck a cabine do passageiro se situava\n",
    "* `alive`: Mesmo que survived só que com `yes` ou `no`\n",
    "* `alone`: *dummy* para se viajava sozinho"
   ]
  },
  {
   "cell_type": "markdown",
   "metadata": {
    "slideshow": {
     "slide_type": "subslide"
    }
   },
   "source": [
    "<img src=\"https://www.edsonmelo.com.br/datascience/titanic.png\" alt=\"titanic\" style=\"width: 500px;\"/>"
   ]
  },
  {
   "cell_type": "code",
   "execution_count": null,
   "metadata": {
    "slideshow": {
     "slide_type": "subslide"
    }
   },
   "outputs": [],
   "source": [
    "titanic.head()"
   ]
  },
  {
   "cell_type": "markdown",
   "metadata": {
    "slideshow": {
     "slide_type": "slide"
    }
   },
   "source": [
    "## Pandas Estatísticas Descritivas\n",
    "\n",
    "* `.min()`: mínimo\n",
    "* `.max()`: máximo\n",
    "* `.quantile(q=0.5)`: quantil (padrão `0.5`)\n",
    "* `.sum()`: soma\n",
    "* `.mean()`: média\n",
    "* `.median()`: mediana\n",
    "* `.mode()`: moda\n",
    "* `.std()`: desvio padrão\n",
    "* `.skew()`: assimetria\n",
    "* `.kurt()`: curtose"
   ]
  },
  {
   "cell_type": "code",
   "execution_count": null,
   "metadata": {
    "slideshow": {
     "slide_type": "fragment"
    }
   },
   "outputs": [],
   "source": [
    "print(titanic['age'].mean())\n",
    "print(titanic['age'].median())"
   ]
  },
  {
   "cell_type": "markdown",
   "metadata": {
    "slideshow": {
     "slide_type": "slide"
    }
   },
   "source": [
    "## Pandas Descritivos não-estatísticos\n",
    "\n",
    "* `unique()`: valores únicos\n",
    "* `value_counts()`: contagem de valores únicos"
   ]
  },
  {
   "cell_type": "code",
   "execution_count": null,
   "metadata": {
    "slideshow": {
     "slide_type": "fragment"
    }
   },
   "outputs": [],
   "source": [
    "titanic['class'].unique()"
   ]
  },
  {
   "cell_type": "code",
   "execution_count": null,
   "metadata": {
    "slideshow": {
     "slide_type": "fragment"
    }
   },
   "outputs": [],
   "source": [
    "titanic['class'].value_counts()"
   ]
  },
  {
   "cell_type": "markdown",
   "metadata": {
    "slideshow": {
     "slide_type": "slide"
    }
   },
   "source": [
    "## Pandas `.describe()`\n",
    "\n",
    "Traz estatísticas descritivas do *DataFrame* em formato de *DataFrame*. Por padrão exclui os `NaN` e `NA`. Para cada variável/coluna:\n",
    "\n",
    "* `count`: contagem das observações\n",
    "* `mean`: média\n",
    "* `std`: desvio padrão\n",
    "* `min`: mínimo\n",
    "* `25%`: quartil Q1 (até 25%)\n",
    "* `50%`: quartil Q2 (até 50%)\n",
    "* `75%`: quartil Q3 (até 75%)\n",
    "* `max`: máximo"
   ]
  },
  {
   "cell_type": "code",
   "execution_count": null,
   "metadata": {
    "slideshow": {
     "slide_type": "subslide"
    }
   },
   "outputs": [],
   "source": [
    "titanic.describe()"
   ]
  },
  {
   "cell_type": "markdown",
   "metadata": {
    "slideshow": {
     "slide_type": "slide"
    }
   },
   "source": [
    "## Pandas `.corr()`\n",
    "\n",
    "Traz correlações do *DataFrame* em formato de *DataFrame*. Por padrão exclui os `NaN` e `NA`. O output é um *DataFrame* quadrado $n \\times n$ onde $n$ é o número de variáveis/colunas."
   ]
  },
  {
   "cell_type": "code",
   "execution_count": null,
   "metadata": {
    "slideshow": {
     "slide_type": "subslide"
    }
   },
   "outputs": [],
   "source": [
    "titanic.corr()"
   ]
  },
  {
   "cell_type": "code",
   "execution_count": null,
   "metadata": {},
   "outputs": [],
   "source": [
    "# gráfico das Correlações\n",
    "plt.subplots(1, 1, figsize=(18, 9))\n",
    "corr = titanic.corr()  \n",
    "plt.imshow(corr, cmap='hot', interpolation='none')  \n",
    "plt.colorbar()  \n",
    "plt.xticks(range(len(corr)), corr.columns)  \n",
    "plt.yticks(range(len(corr)), corr.columns);  \n",
    "plt.show()"
   ]
  },
  {
   "cell_type": "markdown",
   "metadata": {
    "slideshow": {
     "slide_type": "slide"
    }
   },
   "source": [
    "## Pandas `.groupby`\n",
    "\n",
    "*Pão com Manteiga* da análise de dados com pandas. Usado em situações que você quer dividir os dados em grupos e fazer *algo* com esses grupos.\n",
    "\n",
    "Usa os seguintes argumentos:\n",
    "\n",
    "* `by`: determina os grupos (chamados de *keys*), pode ser uma coluna específica ou uma lista de colunas\n",
    "* `axis`: qual a lógica da quebra, `0` para linhas ou `1` para colunas. Padrão é `0`\n",
    "\n",
    "Retorna um objeto chamado *DataFrameGroupBy* que pode ser usado com os seguintes métodos:\n",
    "\n",
    "| Nome da Função       | Descrição                            |\n",
    "| -------------------  | ------------------------------------ |\n",
    "| `count()`            | Número de valores não-NA             |\n",
    "| `sum()`              | Soma de valores não-NA               |\n",
    "| `mean()`             | Média de valores não-NA              |\n",
    "| `median()`           | Mediana Aritmética de valores não-NA |\n",
    "| `std()`              | Desvio padrão de valores não-NA      |\n",
    "| `min()`, `max()`     | Mínimo e Máximo de valores não-NA    |\n",
    "| `first()`, `last()`  | Primeiro e Último de valores não-NA  |"
   ]
  },
  {
   "cell_type": "markdown",
   "metadata": {
    "slideshow": {
     "slide_type": "subslide"
    }
   },
   "source": [
    "![pandas-groupby](https://static.packt-cdn.com/products/9781783985128/graphics/5128OS_09_01.jpg)"
   ]
  },
  {
   "cell_type": "markdown",
   "metadata": {
    "slideshow": {
     "slide_type": "subslide"
    }
   },
   "source": [
    "### Exemplo: Uma *key* somente - média"
   ]
  },
  {
   "cell_type": "code",
   "execution_count": null,
   "metadata": {
    "slideshow": {
     "slide_type": "fragment"
    }
   },
   "outputs": [],
   "source": [
    "titanic.groupby('sex').mean()"
   ]
  },
  {
   "cell_type": "markdown",
   "metadata": {
    "slideshow": {
     "slide_type": "subslide"
    }
   },
   "source": [
    "### Exemplo: Uma *key* somente - contagem"
   ]
  },
  {
   "cell_type": "code",
   "execution_count": null,
   "metadata": {
    "slideshow": {
     "slide_type": "fragment"
    }
   },
   "outputs": [],
   "source": [
    "titanic.groupby('sex').count()"
   ]
  },
  {
   "cell_type": "markdown",
   "metadata": {
    "slideshow": {
     "slide_type": "subslide"
    }
   },
   "source": [
    "### Exemplo: Múltiplas *keys* - média"
   ]
  },
  {
   "cell_type": "code",
   "execution_count": null,
   "metadata": {
    "slideshow": {
     "slide_type": "fragment"
    }
   },
   "outputs": [],
   "source": [
    "titanic.groupby(['sex', 'survived']).mean()"
   ]
  },
  {
   "cell_type": "code",
   "execution_count": null,
   "metadata": {
    "slideshow": {
     "slide_type": "fragment"
    }
   },
   "outputs": [],
   "source": [
    "titanic.groupby(['sex', 'embark_town']).count()"
   ]
  },
  {
   "cell_type": "markdown",
   "metadata": {
    "slideshow": {
     "slide_type": "slide"
    }
   },
   "source": [
    "## Pandas `pd.pivot_table()`\n",
    "\n",
    "Retorna um *DataFrame* de uma \"tabela dinâmica\" (*pivot table*) usando linhas como `index`, colunas como `columns` e valores como `values`. Designa funções de agregação `aggfun` (padrão é `'mean'`):\n",
    "\n",
    "| Nome da Função   | Descrição                            |\n",
    "| ---------------  | ------------------------------------ |\n",
    "| `count`          | Número de valores não-NA             |\n",
    "| `sum`            | Soma de valores não-NA               |\n",
    "| `mean`           | Média de valores não-NA              |\n",
    "| `median`         | Mediana Aritmética de valores não-NA |\n",
    "| `std`            | Desvio padrão de valores não-NA      |\n",
    "| `min`, `max`     | Mínimo e Máximo de valores não-NA    |\n",
    "| `first`, `last`  | Primeiro e Último de valores não-NA  |\n",
    "\n",
    "Obs: usar `margins=True` para subtotais"
   ]
  },
  {
   "cell_type": "markdown",
   "metadata": {
    "slideshow": {
     "slide_type": "subslide"
    }
   },
   "source": [
    "### Exemplo único `index`"
   ]
  },
  {
   "cell_type": "code",
   "execution_count": null,
   "metadata": {
    "slideshow": {
     "slide_type": "fragment"
    }
   },
   "outputs": [],
   "source": [
    "pd.pivot_table(titanic, values = 'survived', index = 'sex', aggfunc='mean', margins=True)"
   ]
  },
  {
   "cell_type": "markdown",
   "metadata": {
    "slideshow": {
     "slide_type": "subslide"
    }
   },
   "source": [
    "### Exemplo múltiplos `index`"
   ]
  },
  {
   "cell_type": "code",
   "execution_count": null,
   "metadata": {
    "slideshow": {
     "slide_type": "fragment"
    }
   },
   "outputs": [],
   "source": [
    "pd.pivot_table(titanic, values = 'survived', index = ['sex', 'class'], aggfunc='mean', margins=True)"
   ]
  },
  {
   "cell_type": "markdown",
   "metadata": {
    "slideshow": {
     "slide_type": "subslide"
    }
   },
   "source": [
    "### Exemplo múltiplos `index` e múltiplos `values`"
   ]
  },
  {
   "cell_type": "code",
   "execution_count": null,
   "metadata": {
    "slideshow": {
     "slide_type": "fragment"
    }
   },
   "outputs": [],
   "source": [
    "pd.pivot_table(titanic, values = ['survived', 'age'], index = ['sex', 'class'], aggfunc='mean', margins=True)"
   ]
  },
  {
   "cell_type": "markdown",
   "metadata": {
    "slideshow": {
     "slide_type": "slide"
    }
   },
   "source": [
    "## Pandas `pd.crosstab()`\n",
    "\n",
    "Retorna um *DataFrame* de uma tabulação cruzada (*cross tabulation*) de dois (ou mais) fatores. Por padrão usa frequência (`'count'`), mas pode ser usada outras funções de agregação `aggfun`:\n",
    "\n",
    "| Nome da Função     | Descrição                            |\n",
    "| -----------------  | ------------------------------------ |\n",
    "| `count`            | Número de valores não-NA             |\n",
    "| `sum`              | Soma de valores não-NA               |\n",
    "| `mean`             | Média de valores não-NA              |\n",
    "| `median`           | Mediana Aritmética de valores não-NA |\n",
    "| `std`              | Desvio padrão de valores não-NA      |\n",
    "| `min`, `max`       | Mínimo e Máximo de valores não-NA    |\n",
    "| `first`, `last`    | Primeiro e Último de valores não-NA  |\n",
    "\n",
    "Obs: se usar `aggfun`, especificar valores com `values`"
   ]
  },
  {
   "cell_type": "markdown",
   "metadata": {
    "slideshow": {
     "slide_type": "subslide"
    }
   },
   "source": [
    "### Exemplo dois fatores - frequência"
   ]
  },
  {
   "cell_type": "code",
   "execution_count": null,
   "metadata": {
    "slideshow": {
     "slide_type": "fragment"
    }
   },
   "outputs": [],
   "source": [
    "pd.crosstab(titanic['sex'], titanic['embark_town'])"
   ]
  },
  {
   "cell_type": "markdown",
   "metadata": {
    "slideshow": {
     "slide_type": "subslide"
    }
   },
   "source": [
    "### Exemplo dois fatores - média"
   ]
  },
  {
   "cell_type": "code",
   "execution_count": null,
   "metadata": {
    "slideshow": {
     "slide_type": "fragment"
    }
   },
   "outputs": [],
   "source": [
    "pd.crosstab(titanic['sex'], titanic['embark_town'], aggfunc='mean', values = titanic['age'])"
   ]
  },
  {
   "cell_type": "markdown",
   "metadata": {
    "slideshow": {
     "slide_type": "subslide"
    }
   },
   "source": [
    "### Exemplo múltiplos fatores - frequência"
   ]
  },
  {
   "cell_type": "code",
   "execution_count": null,
   "metadata": {
    "slideshow": {
     "slide_type": "fragment"
    }
   },
   "outputs": [],
   "source": [
    "pd.crosstab(titanic['sex'], [titanic['embark_town'], titanic['class']])"
   ]
  },
  {
   "cell_type": "code",
   "execution_count": null,
   "metadata": {},
   "outputs": [],
   "source": []
  }
 ],
 "metadata": {
  "celltoolbar": "Slideshow",
  "kernelspec": {
   "display_name": "Python 3",
   "language": "python",
   "name": "python3"
  },
  "language_info": {
   "codemirror_mode": {
    "name": "ipython",
    "version": 3
   },
   "file_extension": ".py",
   "mimetype": "text/x-python",
   "name": "python",
   "nbconvert_exporter": "python",
   "pygments_lexer": "ipython3",
   "version": "3.6.9"
  }
 },
 "nbformat": 4,
 "nbformat_minor": 4
}
