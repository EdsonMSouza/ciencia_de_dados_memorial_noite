{
 "cells": [
  {
   "cell_type": "markdown",
   "metadata": {},
   "source": [
    "# Atividade de Fixação - Resolução"
   ]
  },
  {
   "cell_type": "markdown",
   "metadata": {},
   "source": [
    "## Desenvolver os códigos e apresentar:\n",
    "1. Quantidade de linhas e colunas\n",
    "2. Mostre as 12 últimas linhas\n",
    "3. Mostre todas as notas que **não** se repetem para a nota 1\n",
    "4. Mostre todas as notas com suas respectivas contagens para a nota 2\n",
    "5. Mostre o dataset completo, apresentado uma coluna cm a média de cada aluno\n",
    "6. Mostre a média de cada nota **geral**\n",
    "7. Mostre a coluna notas 3 ordenada de forma decrescente\n",
    "8. Mostre todos os alunos que obtiveram como nota 1 o valor 9\n",
    "9. Mostre a quantidade de alunos com notas: 3, 6, 7, 8 e 10\n",
    "10. Utilizando a estrutura **abaixo*, preencha o dataframe com o valor total de notas de cada coluna\n",
    "\n",
    "`data = {'Tot. Nota1': [0], 'Tot. Nota2': [0], 'Tot. Nota3': [0], 'Tot. Nota4': [0], 'Tot. Nota5': [0]}`\n",
    "\n",
    "`df = pd.DataFrame(data, columns=['Tot. Nota1', 'Tot. Nota2', 'Tot. Nota3', 'Tot. Nota4', 'Tot. Nota5'])`"
   ]
  },
  {
   "cell_type": "markdown",
   "metadata": {},
   "source": [
    "## Importando a biblioteca Pandas"
   ]
  },
  {
   "cell_type": "code",
   "execution_count": null,
   "metadata": {},
   "outputs": [],
   "source": [
    "import pandas as pd"
   ]
  },
  {
   "cell_type": "markdown",
   "metadata": {},
   "source": [
    "## Carregando o dataset"
   ]
  },
  {
   "cell_type": "code",
   "execution_count": null,
   "metadata": {},
   "outputs": [],
   "source": [
    "df = pd.read_csv('data/notas_alunos.csv', sep=',')"
   ]
  },
  {
   "cell_type": "markdown",
   "metadata": {},
   "source": [
    "## Resolvendo os Exercícios"
   ]
  },
  {
   "cell_type": "code",
   "execution_count": null,
   "metadata": {},
   "outputs": [],
   "source": [
    "# 1. Quantidade de linhas e colunas\n",
    "df.shape"
   ]
  },
  {
   "cell_type": "code",
   "execution_count": null,
   "metadata": {},
   "outputs": [],
   "source": [
    "# 2. Mostre as 12 últimas linhas\n",
    "df.tail(12)"
   ]
  },
  {
   "cell_type": "code",
   "execution_count": null,
   "metadata": {},
   "outputs": [],
   "source": [
    "# 3.Mostre todas as notas que não se repetem para a nota 1\n",
    "print(df['Nota1'].unique())"
   ]
  },
  {
   "cell_type": "code",
   "execution_count": null,
   "metadata": {},
   "outputs": [],
   "source": [
    "# 4. Mostre todas as notas com suas respectivas contagens para a nota 2\n",
    "print(df['Nota2'].value_counts())"
   ]
  },
  {
   "cell_type": "code",
   "execution_count": null,
   "metadata": {},
   "outputs": [],
   "source": [
    "# 5. Mostre o dataset completo, apresentado uma coluna com a média de cada aluno\n",
    "df['Media'] = df.mean(axis=1)\n",
    "df"
   ]
  },
  {
   "cell_type": "code",
   "execution_count": null,
   "metadata": {},
   "outputs": [],
   "source": [
    "# 6. Mostre a média de cada nota geral\n",
    "df_medias = df.mean(axis=0)\n",
    "df_medias"
   ]
  },
  {
   "cell_type": "code",
   "execution_count": null,
   "metadata": {},
   "outputs": [],
   "source": [
    "# 7. Mostre a coluna notas 3 ordenada de forma decrescente\n",
    "df.sort_values(\"Nota3\", ascending=False)"
   ]
  },
  {
   "cell_type": "code",
   "execution_count": null,
   "metadata": {},
   "outputs": [],
   "source": [
    "# 8. Mostre todos os alunos que obtiveram como nota 1 o valor 9\n",
    "df[df['Nota1'] == 9]"
   ]
  },
  {
   "cell_type": "code",
   "execution_count": null,
   "metadata": {},
   "outputs": [],
   "source": [
    "# 9. Mostre a quantidade de alunos com notas: 3, 6, 7, 8 e 10\n",
    "\n",
    "# filtrando apena as colunas que contém notas\n",
    "df.drop(['Nome', 'Media'], axis=1, inplace=False)\n",
    "\n",
    "notas = [3., 6., 7., 8., 10.]\n",
    "for nota in range(0, 5):\n",
    "    # o filter() aplica um filtro no DataFrame inteiro, utilizando o parâmetro like para determinar as colunas.\n",
    "    # veja na documentação com explorar melhor este recurso: https://www.geeksforgeeks.org/python-pandas-dataframe-filter/\n",
    "    print(((df.filter(like='Nota') == notas[nota]).sum()).sum(), \" alunos com nota\", notas[nota])"
   ]
  },
  {
   "cell_type": "code",
   "execution_count": null,
   "metadata": {},
   "outputs": [],
   "source": [
    "# 10. Utilizando a estrutura abaixo, preencha o dataframe com o valor total de notas de cada coluna\n",
    "\n",
    "# cria um novo DataFrame\n",
    "data = {'Tot. Nota1': [0], 'Tot. Nota2': [0], 'Tot. Nota3': [0], 'Tot. Nota4': [0], 'Tot. Nota5': [0]}\n",
    "df_soma = pd.DataFrame(data, columns=['Tot. Nota1', 'Tot. Nota2', 'Tot. Nota3', 'Tot. Nota4', 'Tot. Nota5'])\n",
    "\n",
    "# cria um aray com as notas procuradas\n",
    "notas = [3, 6, 7, 8, 10]\n",
    "\n",
    "# percorre as notas procuradas e realiza a soma\n",
    "for nota in range(0, 5):\n",
    "    df_soma['Tot. Nota' + str((nota+1))] = df['Nota' + str((nota+1))].sum()\n",
    "    \n",
    "# mostra o resultado\n",
    "df_soma"
   ]
  },
  {
   "cell_type": "code",
   "execution_count": null,
   "metadata": {},
   "outputs": [],
   "source": []
  }
 ],
 "metadata": {
  "kernelspec": {
   "display_name": "Python 3",
   "language": "python",
   "name": "python3"
  },
  "language_info": {
   "codemirror_mode": {
    "name": "ipython",
    "version": 3
   },
   "file_extension": ".py",
   "mimetype": "text/x-python",
   "name": "python",
   "nbconvert_exporter": "python",
   "pygments_lexer": "ipython3",
   "version": "3.6.9"
  }
 },
 "nbformat": 4,
 "nbformat_minor": 4
}
