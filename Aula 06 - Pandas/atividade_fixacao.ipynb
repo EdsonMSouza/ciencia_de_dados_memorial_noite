{
 "cells": [
  {
   "cell_type": "markdown",
   "metadata": {},
   "source": [
    "# Atividade de Fixação"
   ]
  },
  {
   "cell_type": "markdown",
   "metadata": {},
   "source": [
    "## Dataset\n",
    "Utilize o dataset **notas_alunos.csv** disponível para *download* acima "
   ]
  },
  {
   "cell_type": "markdown",
   "metadata": {},
   "source": [
    "## Desenvolver os códigos e apresentar:\n",
    "1. Quantidade de linhas e colunas\n",
    "2. Mostre as 12 últimas linhas\n",
    "3. Mostre todas as notas que **não** se repetem para a nota 1\n",
    "4. Mostre todas as notas com suas respectivas contagens para a nota 2\n",
    "5. Mostre o dataset completo, apresentado uma coluna cm a média de cada aluno\n",
    "6. Mostre a média de cada nota **geral**\n",
    "7. Mostre a coluna notas 3 ordenada de forma decrescente\n",
    "8. Mostre todos os alunos que obtiveram como nota 1 o valor 9\n",
    "9. Mostre a quantidade de alunos com notas: 3, 6, 7, 8 e 10\n",
    "10. Utilizando a estrutura **abaixo*, preencha o dataframe com o valor total de notas de cada coluna\n",
    "\n",
    "`data = {'Tot. Nota1': [0], 'Tot. Nota2': [0], 'Tot. Nota3': [0], 'Tot. Nota4': [0], 'Tot. Nota5': [0]}`\n",
    "\n",
    "`df = pd.DataFrame(data, columns=['Tot. Nota1', 'Tot. Nota2', 'Tot. Nota3', 'Tot. Nota4', 'Tot. Nota5'])`"
   ]
  },
  {
   "cell_type": "code",
   "execution_count": null,
   "metadata": {},
   "outputs": [],
   "source": []
  }
 ],
 "metadata": {
  "kernelspec": {
   "display_name": "Python 3",
   "language": "python",
   "name": "python3"
  },
  "language_info": {
   "codemirror_mode": {
    "name": "ipython",
    "version": 3
   },
   "file_extension": ".py",
   "mimetype": "text/x-python",
   "name": "python",
   "nbconvert_exporter": "python",
   "pygments_lexer": "ipython3",
   "version": "3.6.9"
  }
 },
 "nbformat": 4,
 "nbformat_minor": 4
}
